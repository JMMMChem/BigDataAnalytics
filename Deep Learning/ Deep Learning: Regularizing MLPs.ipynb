{
  "nbformat": 4,
  "nbformat_minor": 0,
  "metadata": {
    "kernelspec": {
      "display_name": "Python 3",
      "language": "python",
      "name": "python3"
    },
    "language_info": {
      "codemirror_mode": {
        "name": "ipython",
        "version": 3
      },
      "file_extension": ".py",
      "mimetype": "text/x-python",
      "name": "python",
      "nbconvert_exporter": "python",
      "pygments_lexer": "ipython3",
      "version": "3.7.3"
    },
    "colab": {
      "name": "JoseMaria_Lab_2_Part_2.ipynb",
      "provenance": [],
      "collapsed_sections": []
    },
    "widgets": {
      "application/vnd.jupyter.widget-state+json": {
        "45dd3777c7a645eabbecb858e7913938": {
          "model_module": "@jupyter-widgets/controls",
          "model_name": "HBoxModel",
          "state": {
            "_view_name": "HBoxView",
            "_dom_classes": [],
            "_model_name": "HBoxModel",
            "_view_module": "@jupyter-widgets/controls",
            "_model_module_version": "1.5.0",
            "_view_count": null,
            "_view_module_version": "1.5.0",
            "box_style": "",
            "layout": "IPY_MODEL_0d53f6e7642b43cd9b920403a6d07d00",
            "_model_module": "@jupyter-widgets/controls",
            "children": [
              "IPY_MODEL_11f56b9066654ff4b7de0077203dcdb4",
              "IPY_MODEL_98625c179ef6477d89a04c12f808e7c9"
            ]
          }
        },
        "0d53f6e7642b43cd9b920403a6d07d00": {
          "model_module": "@jupyter-widgets/base",
          "model_name": "LayoutModel",
          "state": {
            "_view_name": "LayoutView",
            "grid_template_rows": null,
            "right": null,
            "justify_content": null,
            "_view_module": "@jupyter-widgets/base",
            "overflow": null,
            "_model_module_version": "1.2.0",
            "_view_count": null,
            "flex_flow": null,
            "width": null,
            "min_width": null,
            "border": null,
            "align_items": null,
            "bottom": null,
            "_model_module": "@jupyter-widgets/base",
            "top": null,
            "grid_column": null,
            "overflow_y": null,
            "overflow_x": null,
            "grid_auto_flow": null,
            "grid_area": null,
            "grid_template_columns": null,
            "flex": null,
            "_model_name": "LayoutModel",
            "justify_items": null,
            "grid_row": null,
            "max_height": null,
            "align_content": null,
            "visibility": null,
            "align_self": null,
            "height": null,
            "min_height": null,
            "padding": null,
            "grid_auto_rows": null,
            "grid_gap": null,
            "max_width": null,
            "order": null,
            "_view_module_version": "1.2.0",
            "grid_template_areas": null,
            "object_position": null,
            "object_fit": null,
            "grid_auto_columns": null,
            "margin": null,
            "display": null,
            "left": null
          }
        },
        "11f56b9066654ff4b7de0077203dcdb4": {
          "model_module": "@jupyter-widgets/controls",
          "model_name": "FloatProgressModel",
          "state": {
            "_view_name": "ProgressView",
            "style": "IPY_MODEL_98be9a48c20d4af887ea229114004879",
            "_dom_classes": [],
            "description": "",
            "_model_name": "FloatProgressModel",
            "bar_style": "success",
            "max": 26421880,
            "_view_module": "@jupyter-widgets/controls",
            "_model_module_version": "1.5.0",
            "value": 26421880,
            "_view_count": null,
            "_view_module_version": "1.5.0",
            "orientation": "horizontal",
            "min": 0,
            "description_tooltip": null,
            "_model_module": "@jupyter-widgets/controls",
            "layout": "IPY_MODEL_52658d76176c44b8b4d8f00948c35448"
          }
        },
        "98625c179ef6477d89a04c12f808e7c9": {
          "model_module": "@jupyter-widgets/controls",
          "model_name": "HTMLModel",
          "state": {
            "_view_name": "HTMLView",
            "style": "IPY_MODEL_4c36471f627748a7b861c0e00dad31b8",
            "_dom_classes": [],
            "description": "",
            "_model_name": "HTMLModel",
            "placeholder": "​",
            "_view_module": "@jupyter-widgets/controls",
            "_model_module_version": "1.5.0",
            "value": " 26422272/? [00:12&lt;00:00, 2125843.31it/s]",
            "_view_count": null,
            "_view_module_version": "1.5.0",
            "description_tooltip": null,
            "_model_module": "@jupyter-widgets/controls",
            "layout": "IPY_MODEL_bc1d277015404c93a66ec8b19958f13b"
          }
        },
        "98be9a48c20d4af887ea229114004879": {
          "model_module": "@jupyter-widgets/controls",
          "model_name": "ProgressStyleModel",
          "state": {
            "_view_name": "StyleView",
            "_model_name": "ProgressStyleModel",
            "description_width": "initial",
            "_view_module": "@jupyter-widgets/base",
            "_model_module_version": "1.5.0",
            "_view_count": null,
            "_view_module_version": "1.2.0",
            "bar_color": null,
            "_model_module": "@jupyter-widgets/controls"
          }
        },
        "52658d76176c44b8b4d8f00948c35448": {
          "model_module": "@jupyter-widgets/base",
          "model_name": "LayoutModel",
          "state": {
            "_view_name": "LayoutView",
            "grid_template_rows": null,
            "right": null,
            "justify_content": null,
            "_view_module": "@jupyter-widgets/base",
            "overflow": null,
            "_model_module_version": "1.2.0",
            "_view_count": null,
            "flex_flow": null,
            "width": null,
            "min_width": null,
            "border": null,
            "align_items": null,
            "bottom": null,
            "_model_module": "@jupyter-widgets/base",
            "top": null,
            "grid_column": null,
            "overflow_y": null,
            "overflow_x": null,
            "grid_auto_flow": null,
            "grid_area": null,
            "grid_template_columns": null,
            "flex": null,
            "_model_name": "LayoutModel",
            "justify_items": null,
            "grid_row": null,
            "max_height": null,
            "align_content": null,
            "visibility": null,
            "align_self": null,
            "height": null,
            "min_height": null,
            "padding": null,
            "grid_auto_rows": null,
            "grid_gap": null,
            "max_width": null,
            "order": null,
            "_view_module_version": "1.2.0",
            "grid_template_areas": null,
            "object_position": null,
            "object_fit": null,
            "grid_auto_columns": null,
            "margin": null,
            "display": null,
            "left": null
          }
        },
        "4c36471f627748a7b861c0e00dad31b8": {
          "model_module": "@jupyter-widgets/controls",
          "model_name": "DescriptionStyleModel",
          "state": {
            "_view_name": "StyleView",
            "_model_name": "DescriptionStyleModel",
            "description_width": "",
            "_view_module": "@jupyter-widgets/base",
            "_model_module_version": "1.5.0",
            "_view_count": null,
            "_view_module_version": "1.2.0",
            "_model_module": "@jupyter-widgets/controls"
          }
        },
        "bc1d277015404c93a66ec8b19958f13b": {
          "model_module": "@jupyter-widgets/base",
          "model_name": "LayoutModel",
          "state": {
            "_view_name": "LayoutView",
            "grid_template_rows": null,
            "right": null,
            "justify_content": null,
            "_view_module": "@jupyter-widgets/base",
            "overflow": null,
            "_model_module_version": "1.2.0",
            "_view_count": null,
            "flex_flow": null,
            "width": null,
            "min_width": null,
            "border": null,
            "align_items": null,
            "bottom": null,
            "_model_module": "@jupyter-widgets/base",
            "top": null,
            "grid_column": null,
            "overflow_y": null,
            "overflow_x": null,
            "grid_auto_flow": null,
            "grid_area": null,
            "grid_template_columns": null,
            "flex": null,
            "_model_name": "LayoutModel",
            "justify_items": null,
            "grid_row": null,
            "max_height": null,
            "align_content": null,
            "visibility": null,
            "align_self": null,
            "height": null,
            "min_height": null,
            "padding": null,
            "grid_auto_rows": null,
            "grid_gap": null,
            "max_width": null,
            "order": null,
            "_view_module_version": "1.2.0",
            "grid_template_areas": null,
            "object_position": null,
            "object_fit": null,
            "grid_auto_columns": null,
            "margin": null,
            "display": null,
            "left": null
          }
        },
        "c92199e724f24676b63e70a27ebd0df9": {
          "model_module": "@jupyter-widgets/controls",
          "model_name": "HBoxModel",
          "state": {
            "_view_name": "HBoxView",
            "_dom_classes": [],
            "_model_name": "HBoxModel",
            "_view_module": "@jupyter-widgets/controls",
            "_model_module_version": "1.5.0",
            "_view_count": null,
            "_view_module_version": "1.5.0",
            "box_style": "",
            "layout": "IPY_MODEL_ffb9e5b30b99417c87c4da0b8d2d4832",
            "_model_module": "@jupyter-widgets/controls",
            "children": [
              "IPY_MODEL_e44be7c3e0974cefa03ca09cc501053a",
              "IPY_MODEL_1c50e48cad3c453ca6f95d6cc067e9e4"
            ]
          }
        },
        "ffb9e5b30b99417c87c4da0b8d2d4832": {
          "model_module": "@jupyter-widgets/base",
          "model_name": "LayoutModel",
          "state": {
            "_view_name": "LayoutView",
            "grid_template_rows": null,
            "right": null,
            "justify_content": null,
            "_view_module": "@jupyter-widgets/base",
            "overflow": null,
            "_model_module_version": "1.2.0",
            "_view_count": null,
            "flex_flow": null,
            "width": null,
            "min_width": null,
            "border": null,
            "align_items": null,
            "bottom": null,
            "_model_module": "@jupyter-widgets/base",
            "top": null,
            "grid_column": null,
            "overflow_y": null,
            "overflow_x": null,
            "grid_auto_flow": null,
            "grid_area": null,
            "grid_template_columns": null,
            "flex": null,
            "_model_name": "LayoutModel",
            "justify_items": null,
            "grid_row": null,
            "max_height": null,
            "align_content": null,
            "visibility": null,
            "align_self": null,
            "height": null,
            "min_height": null,
            "padding": null,
            "grid_auto_rows": null,
            "grid_gap": null,
            "max_width": null,
            "order": null,
            "_view_module_version": "1.2.0",
            "grid_template_areas": null,
            "object_position": null,
            "object_fit": null,
            "grid_auto_columns": null,
            "margin": null,
            "display": null,
            "left": null
          }
        },
        "e44be7c3e0974cefa03ca09cc501053a": {
          "model_module": "@jupyter-widgets/controls",
          "model_name": "FloatProgressModel",
          "state": {
            "_view_name": "ProgressView",
            "style": "IPY_MODEL_5dceb5e50b014c00aaf61485984ca409",
            "_dom_classes": [],
            "description": "",
            "_model_name": "FloatProgressModel",
            "bar_style": "success",
            "max": 29515,
            "_view_module": "@jupyter-widgets/controls",
            "_model_module_version": "1.5.0",
            "value": 29515,
            "_view_count": null,
            "_view_module_version": "1.5.0",
            "orientation": "horizontal",
            "min": 0,
            "description_tooltip": null,
            "_model_module": "@jupyter-widgets/controls",
            "layout": "IPY_MODEL_e735b22bcea041f1b625bd93c4a7316a"
          }
        },
        "1c50e48cad3c453ca6f95d6cc067e9e4": {
          "model_module": "@jupyter-widgets/controls",
          "model_name": "HTMLModel",
          "state": {
            "_view_name": "HTMLView",
            "style": "IPY_MODEL_fc953160a75c4f67ab2e850e19e5becb",
            "_dom_classes": [],
            "description": "",
            "_model_name": "HTMLModel",
            "placeholder": "​",
            "_view_module": "@jupyter-widgets/controls",
            "_model_module_version": "1.5.0",
            "value": " 29696/? [00:02&lt;00:00, 12248.15it/s]",
            "_view_count": null,
            "_view_module_version": "1.5.0",
            "description_tooltip": null,
            "_model_module": "@jupyter-widgets/controls",
            "layout": "IPY_MODEL_98ddbe1669a0463287eaac71375a6cf5"
          }
        },
        "5dceb5e50b014c00aaf61485984ca409": {
          "model_module": "@jupyter-widgets/controls",
          "model_name": "ProgressStyleModel",
          "state": {
            "_view_name": "StyleView",
            "_model_name": "ProgressStyleModel",
            "description_width": "initial",
            "_view_module": "@jupyter-widgets/base",
            "_model_module_version": "1.5.0",
            "_view_count": null,
            "_view_module_version": "1.2.0",
            "bar_color": null,
            "_model_module": "@jupyter-widgets/controls"
          }
        },
        "e735b22bcea041f1b625bd93c4a7316a": {
          "model_module": "@jupyter-widgets/base",
          "model_name": "LayoutModel",
          "state": {
            "_view_name": "LayoutView",
            "grid_template_rows": null,
            "right": null,
            "justify_content": null,
            "_view_module": "@jupyter-widgets/base",
            "overflow": null,
            "_model_module_version": "1.2.0",
            "_view_count": null,
            "flex_flow": null,
            "width": null,
            "min_width": null,
            "border": null,
            "align_items": null,
            "bottom": null,
            "_model_module": "@jupyter-widgets/base",
            "top": null,
            "grid_column": null,
            "overflow_y": null,
            "overflow_x": null,
            "grid_auto_flow": null,
            "grid_area": null,
            "grid_template_columns": null,
            "flex": null,
            "_model_name": "LayoutModel",
            "justify_items": null,
            "grid_row": null,
            "max_height": null,
            "align_content": null,
            "visibility": null,
            "align_self": null,
            "height": null,
            "min_height": null,
            "padding": null,
            "grid_auto_rows": null,
            "grid_gap": null,
            "max_width": null,
            "order": null,
            "_view_module_version": "1.2.0",
            "grid_template_areas": null,
            "object_position": null,
            "object_fit": null,
            "grid_auto_columns": null,
            "margin": null,
            "display": null,
            "left": null
          }
        },
        "fc953160a75c4f67ab2e850e19e5becb": {
          "model_module": "@jupyter-widgets/controls",
          "model_name": "DescriptionStyleModel",
          "state": {
            "_view_name": "StyleView",
            "_model_name": "DescriptionStyleModel",
            "description_width": "",
            "_view_module": "@jupyter-widgets/base",
            "_model_module_version": "1.5.0",
            "_view_count": null,
            "_view_module_version": "1.2.0",
            "_model_module": "@jupyter-widgets/controls"
          }
        },
        "98ddbe1669a0463287eaac71375a6cf5": {
          "model_module": "@jupyter-widgets/base",
          "model_name": "LayoutModel",
          "state": {
            "_view_name": "LayoutView",
            "grid_template_rows": null,
            "right": null,
            "justify_content": null,
            "_view_module": "@jupyter-widgets/base",
            "overflow": null,
            "_model_module_version": "1.2.0",
            "_view_count": null,
            "flex_flow": null,
            "width": null,
            "min_width": null,
            "border": null,
            "align_items": null,
            "bottom": null,
            "_model_module": "@jupyter-widgets/base",
            "top": null,
            "grid_column": null,
            "overflow_y": null,
            "overflow_x": null,
            "grid_auto_flow": null,
            "grid_area": null,
            "grid_template_columns": null,
            "flex": null,
            "_model_name": "LayoutModel",
            "justify_items": null,
            "grid_row": null,
            "max_height": null,
            "align_content": null,
            "visibility": null,
            "align_self": null,
            "height": null,
            "min_height": null,
            "padding": null,
            "grid_auto_rows": null,
            "grid_gap": null,
            "max_width": null,
            "order": null,
            "_view_module_version": "1.2.0",
            "grid_template_areas": null,
            "object_position": null,
            "object_fit": null,
            "grid_auto_columns": null,
            "margin": null,
            "display": null,
            "left": null
          }
        },
        "bf3b22a7261c41a1bd380fa15f409ec9": {
          "model_module": "@jupyter-widgets/controls",
          "model_name": "HBoxModel",
          "state": {
            "_view_name": "HBoxView",
            "_dom_classes": [],
            "_model_name": "HBoxModel",
            "_view_module": "@jupyter-widgets/controls",
            "_model_module_version": "1.5.0",
            "_view_count": null,
            "_view_module_version": "1.5.0",
            "box_style": "",
            "layout": "IPY_MODEL_d439b0e822b746f3affdd03091c2d357",
            "_model_module": "@jupyter-widgets/controls",
            "children": [
              "IPY_MODEL_cfafbd535b7340bfb2da2b0dc282c402",
              "IPY_MODEL_ecb2c0139e9e464fb7440a0be9c15e30"
            ]
          }
        },
        "d439b0e822b746f3affdd03091c2d357": {
          "model_module": "@jupyter-widgets/base",
          "model_name": "LayoutModel",
          "state": {
            "_view_name": "LayoutView",
            "grid_template_rows": null,
            "right": null,
            "justify_content": null,
            "_view_module": "@jupyter-widgets/base",
            "overflow": null,
            "_model_module_version": "1.2.0",
            "_view_count": null,
            "flex_flow": null,
            "width": null,
            "min_width": null,
            "border": null,
            "align_items": null,
            "bottom": null,
            "_model_module": "@jupyter-widgets/base",
            "top": null,
            "grid_column": null,
            "overflow_y": null,
            "overflow_x": null,
            "grid_auto_flow": null,
            "grid_area": null,
            "grid_template_columns": null,
            "flex": null,
            "_model_name": "LayoutModel",
            "justify_items": null,
            "grid_row": null,
            "max_height": null,
            "align_content": null,
            "visibility": null,
            "align_self": null,
            "height": null,
            "min_height": null,
            "padding": null,
            "grid_auto_rows": null,
            "grid_gap": null,
            "max_width": null,
            "order": null,
            "_view_module_version": "1.2.0",
            "grid_template_areas": null,
            "object_position": null,
            "object_fit": null,
            "grid_auto_columns": null,
            "margin": null,
            "display": null,
            "left": null
          }
        },
        "cfafbd535b7340bfb2da2b0dc282c402": {
          "model_module": "@jupyter-widgets/controls",
          "model_name": "FloatProgressModel",
          "state": {
            "_view_name": "ProgressView",
            "style": "IPY_MODEL_3cecf0d027e14e60ab242f436d8a1285",
            "_dom_classes": [],
            "description": "",
            "_model_name": "FloatProgressModel",
            "bar_style": "success",
            "max": 4422102,
            "_view_module": "@jupyter-widgets/controls",
            "_model_module_version": "1.5.0",
            "value": 4422102,
            "_view_count": null,
            "_view_module_version": "1.5.0",
            "orientation": "horizontal",
            "min": 0,
            "description_tooltip": null,
            "_model_module": "@jupyter-widgets/controls",
            "layout": "IPY_MODEL_f4bb5ade7af54c02a98cd73aeee800bd"
          }
        },
        "ecb2c0139e9e464fb7440a0be9c15e30": {
          "model_module": "@jupyter-widgets/controls",
          "model_name": "HTMLModel",
          "state": {
            "_view_name": "HTMLView",
            "style": "IPY_MODEL_d70bb497458b4a089b584300726b30b0",
            "_dom_classes": [],
            "description": "",
            "_model_name": "HTMLModel",
            "placeholder": "​",
            "_view_module": "@jupyter-widgets/controls",
            "_model_module_version": "1.5.0",
            "value": " 4422656/? [00:07&lt;00:00, 553467.67it/s]",
            "_view_count": null,
            "_view_module_version": "1.5.0",
            "description_tooltip": null,
            "_model_module": "@jupyter-widgets/controls",
            "layout": "IPY_MODEL_909e59ac68bb48aa9639cb14749c1746"
          }
        },
        "3cecf0d027e14e60ab242f436d8a1285": {
          "model_module": "@jupyter-widgets/controls",
          "model_name": "ProgressStyleModel",
          "state": {
            "_view_name": "StyleView",
            "_model_name": "ProgressStyleModel",
            "description_width": "initial",
            "_view_module": "@jupyter-widgets/base",
            "_model_module_version": "1.5.0",
            "_view_count": null,
            "_view_module_version": "1.2.0",
            "bar_color": null,
            "_model_module": "@jupyter-widgets/controls"
          }
        },
        "f4bb5ade7af54c02a98cd73aeee800bd": {
          "model_module": "@jupyter-widgets/base",
          "model_name": "LayoutModel",
          "state": {
            "_view_name": "LayoutView",
            "grid_template_rows": null,
            "right": null,
            "justify_content": null,
            "_view_module": "@jupyter-widgets/base",
            "overflow": null,
            "_model_module_version": "1.2.0",
            "_view_count": null,
            "flex_flow": null,
            "width": null,
            "min_width": null,
            "border": null,
            "align_items": null,
            "bottom": null,
            "_model_module": "@jupyter-widgets/base",
            "top": null,
            "grid_column": null,
            "overflow_y": null,
            "overflow_x": null,
            "grid_auto_flow": null,
            "grid_area": null,
            "grid_template_columns": null,
            "flex": null,
            "_model_name": "LayoutModel",
            "justify_items": null,
            "grid_row": null,
            "max_height": null,
            "align_content": null,
            "visibility": null,
            "align_self": null,
            "height": null,
            "min_height": null,
            "padding": null,
            "grid_auto_rows": null,
            "grid_gap": null,
            "max_width": null,
            "order": null,
            "_view_module_version": "1.2.0",
            "grid_template_areas": null,
            "object_position": null,
            "object_fit": null,
            "grid_auto_columns": null,
            "margin": null,
            "display": null,
            "left": null
          }
        },
        "d70bb497458b4a089b584300726b30b0": {
          "model_module": "@jupyter-widgets/controls",
          "model_name": "DescriptionStyleModel",
          "state": {
            "_view_name": "StyleView",
            "_model_name": "DescriptionStyleModel",
            "description_width": "",
            "_view_module": "@jupyter-widgets/base",
            "_model_module_version": "1.5.0",
            "_view_count": null,
            "_view_module_version": "1.2.0",
            "_model_module": "@jupyter-widgets/controls"
          }
        },
        "909e59ac68bb48aa9639cb14749c1746": {
          "model_module": "@jupyter-widgets/base",
          "model_name": "LayoutModel",
          "state": {
            "_view_name": "LayoutView",
            "grid_template_rows": null,
            "right": null,
            "justify_content": null,
            "_view_module": "@jupyter-widgets/base",
            "overflow": null,
            "_model_module_version": "1.2.0",
            "_view_count": null,
            "flex_flow": null,
            "width": null,
            "min_width": null,
            "border": null,
            "align_items": null,
            "bottom": null,
            "_model_module": "@jupyter-widgets/base",
            "top": null,
            "grid_column": null,
            "overflow_y": null,
            "overflow_x": null,
            "grid_auto_flow": null,
            "grid_area": null,
            "grid_template_columns": null,
            "flex": null,
            "_model_name": "LayoutModel",
            "justify_items": null,
            "grid_row": null,
            "max_height": null,
            "align_content": null,
            "visibility": null,
            "align_self": null,
            "height": null,
            "min_height": null,
            "padding": null,
            "grid_auto_rows": null,
            "grid_gap": null,
            "max_width": null,
            "order": null,
            "_view_module_version": "1.2.0",
            "grid_template_areas": null,
            "object_position": null,
            "object_fit": null,
            "grid_auto_columns": null,
            "margin": null,
            "display": null,
            "left": null
          }
        },
        "9f243e3ddf7040e486501f7c62a99e9e": {
          "model_module": "@jupyter-widgets/controls",
          "model_name": "HBoxModel",
          "state": {
            "_view_name": "HBoxView",
            "_dom_classes": [],
            "_model_name": "HBoxModel",
            "_view_module": "@jupyter-widgets/controls",
            "_model_module_version": "1.5.0",
            "_view_count": null,
            "_view_module_version": "1.5.0",
            "box_style": "",
            "layout": "IPY_MODEL_e1c28d9cf27e4927af39a076fdc3e52b",
            "_model_module": "@jupyter-widgets/controls",
            "children": [
              "IPY_MODEL_dbc3ce7c503545cea60417fd7ee67227",
              "IPY_MODEL_81ccc1cf61cd44d6a47b7404dadd6bd4"
            ]
          }
        },
        "e1c28d9cf27e4927af39a076fdc3e52b": {
          "model_module": "@jupyter-widgets/base",
          "model_name": "LayoutModel",
          "state": {
            "_view_name": "LayoutView",
            "grid_template_rows": null,
            "right": null,
            "justify_content": null,
            "_view_module": "@jupyter-widgets/base",
            "overflow": null,
            "_model_module_version": "1.2.0",
            "_view_count": null,
            "flex_flow": null,
            "width": null,
            "min_width": null,
            "border": null,
            "align_items": null,
            "bottom": null,
            "_model_module": "@jupyter-widgets/base",
            "top": null,
            "grid_column": null,
            "overflow_y": null,
            "overflow_x": null,
            "grid_auto_flow": null,
            "grid_area": null,
            "grid_template_columns": null,
            "flex": null,
            "_model_name": "LayoutModel",
            "justify_items": null,
            "grid_row": null,
            "max_height": null,
            "align_content": null,
            "visibility": null,
            "align_self": null,
            "height": null,
            "min_height": null,
            "padding": null,
            "grid_auto_rows": null,
            "grid_gap": null,
            "max_width": null,
            "order": null,
            "_view_module_version": "1.2.0",
            "grid_template_areas": null,
            "object_position": null,
            "object_fit": null,
            "grid_auto_columns": null,
            "margin": null,
            "display": null,
            "left": null
          }
        },
        "dbc3ce7c503545cea60417fd7ee67227": {
          "model_module": "@jupyter-widgets/controls",
          "model_name": "FloatProgressModel",
          "state": {
            "_view_name": "ProgressView",
            "style": "IPY_MODEL_1c6a01645f1b4f5f9c1b4787a742dd67",
            "_dom_classes": [],
            "description": "",
            "_model_name": "FloatProgressModel",
            "bar_style": "success",
            "max": 5148,
            "_view_module": "@jupyter-widgets/controls",
            "_model_module_version": "1.5.0",
            "value": 5148,
            "_view_count": null,
            "_view_module_version": "1.5.0",
            "orientation": "horizontal",
            "min": 0,
            "description_tooltip": null,
            "_model_module": "@jupyter-widgets/controls",
            "layout": "IPY_MODEL_a978d29455224f9fa67e31499dacf105"
          }
        },
        "81ccc1cf61cd44d6a47b7404dadd6bd4": {
          "model_module": "@jupyter-widgets/controls",
          "model_name": "HTMLModel",
          "state": {
            "_view_name": "HTMLView",
            "style": "IPY_MODEL_27c5758001e44855a2dad1047e9b7c13",
            "_dom_classes": [],
            "description": "",
            "_model_name": "HTMLModel",
            "placeholder": "​",
            "_view_module": "@jupyter-widgets/controls",
            "_model_module_version": "1.5.0",
            "value": " 6144/? [00:06&lt;00:00, 941.02it/s]",
            "_view_count": null,
            "_view_module_version": "1.5.0",
            "description_tooltip": null,
            "_model_module": "@jupyter-widgets/controls",
            "layout": "IPY_MODEL_e3cd01549d9844a0950dd5d7950d7fef"
          }
        },
        "1c6a01645f1b4f5f9c1b4787a742dd67": {
          "model_module": "@jupyter-widgets/controls",
          "model_name": "ProgressStyleModel",
          "state": {
            "_view_name": "StyleView",
            "_model_name": "ProgressStyleModel",
            "description_width": "initial",
            "_view_module": "@jupyter-widgets/base",
            "_model_module_version": "1.5.0",
            "_view_count": null,
            "_view_module_version": "1.2.0",
            "bar_color": null,
            "_model_module": "@jupyter-widgets/controls"
          }
        },
        "a978d29455224f9fa67e31499dacf105": {
          "model_module": "@jupyter-widgets/base",
          "model_name": "LayoutModel",
          "state": {
            "_view_name": "LayoutView",
            "grid_template_rows": null,
            "right": null,
            "justify_content": null,
            "_view_module": "@jupyter-widgets/base",
            "overflow": null,
            "_model_module_version": "1.2.0",
            "_view_count": null,
            "flex_flow": null,
            "width": null,
            "min_width": null,
            "border": null,
            "align_items": null,
            "bottom": null,
            "_model_module": "@jupyter-widgets/base",
            "top": null,
            "grid_column": null,
            "overflow_y": null,
            "overflow_x": null,
            "grid_auto_flow": null,
            "grid_area": null,
            "grid_template_columns": null,
            "flex": null,
            "_model_name": "LayoutModel",
            "justify_items": null,
            "grid_row": null,
            "max_height": null,
            "align_content": null,
            "visibility": null,
            "align_self": null,
            "height": null,
            "min_height": null,
            "padding": null,
            "grid_auto_rows": null,
            "grid_gap": null,
            "max_width": null,
            "order": null,
            "_view_module_version": "1.2.0",
            "grid_template_areas": null,
            "object_position": null,
            "object_fit": null,
            "grid_auto_columns": null,
            "margin": null,
            "display": null,
            "left": null
          }
        },
        "27c5758001e44855a2dad1047e9b7c13": {
          "model_module": "@jupyter-widgets/controls",
          "model_name": "DescriptionStyleModel",
          "state": {
            "_view_name": "StyleView",
            "_model_name": "DescriptionStyleModel",
            "description_width": "",
            "_view_module": "@jupyter-widgets/base",
            "_model_module_version": "1.5.0",
            "_view_count": null,
            "_view_module_version": "1.2.0",
            "_model_module": "@jupyter-widgets/controls"
          }
        },
        "e3cd01549d9844a0950dd5d7950d7fef": {
          "model_module": "@jupyter-widgets/base",
          "model_name": "LayoutModel",
          "state": {
            "_view_name": "LayoutView",
            "grid_template_rows": null,
            "right": null,
            "justify_content": null,
            "_view_module": "@jupyter-widgets/base",
            "overflow": null,
            "_model_module_version": "1.2.0",
            "_view_count": null,
            "flex_flow": null,
            "width": null,
            "min_width": null,
            "border": null,
            "align_items": null,
            "bottom": null,
            "_model_module": "@jupyter-widgets/base",
            "top": null,
            "grid_column": null,
            "overflow_y": null,
            "overflow_x": null,
            "grid_auto_flow": null,
            "grid_area": null,
            "grid_template_columns": null,
            "flex": null,
            "_model_name": "LayoutModel",
            "justify_items": null,
            "grid_row": null,
            "max_height": null,
            "align_content": null,
            "visibility": null,
            "align_self": null,
            "height": null,
            "min_height": null,
            "padding": null,
            "grid_auto_rows": null,
            "grid_gap": null,
            "max_width": null,
            "order": null,
            "_view_module_version": "1.2.0",
            "grid_template_areas": null,
            "object_position": null,
            "object_fit": null,
            "grid_auto_columns": null,
            "margin": null,
            "display": null,
            "left": null
          }
        }
      }
    }
  },
  "cells": [
    {
      "cell_type": "markdown",
      "metadata": {
        "id": "vFPuvVCgt5Mj"
      },
      "source": [
        "# Lab 2 (Part 2): Regularizing MLPs\n",
        "\n",
        "José María Martínez Marín 100443343\n",
        "\n",
        "Azamat Ziiadinov 100460540\n",
        "\n",
        "\n",
        "------------------------------------------------------\n",
        "*Deep Learning. Master in Big Data Analytics*\n",
        "\n",
        "*Pablo M. Olmos pamartin@ing.uc3m.es*\n",
        "\n",
        "------------------------------------------------------\n",
        "\n",
        "\n",
        "In this second part of the lab, ou'll be using the [Fashion-MNIST dataset](https://github.com/zalandoresearch/fashion-mnist), a drop-in replacement for the MNIST dataset. MNIST is actually quite trivial with neural networks where you can easily achieve better than 97% accuracy. Fashion-MNIST is a set of 28x28 greyscale images of clothes. It's more complex than MNIST, so it's a better representation of the actual performance of your network, and a better representation of datasets you'll use in the real world. You can see a sample below."
      ]
    },
    {
      "cell_type": "code",
      "metadata": {
        "colab": {
          "base_uri": "https://localhost:8080/",
          "height": 219
        },
        "id": "-Yu-eG3tt5Ml",
        "outputId": "cd6161ca-e16a-4a58-8f87-4f42706825d4"
      },
      "source": [
        "from IPython.display import Image\n",
        "from IPython.core.display import HTML \n",
        "\n",
        "Image(url= \"https://miro.medium.com/max/3200/1*QQVbuP2SEasB0XAmvjW0AA.jpeg\", width=400, height=200)"
      ],
      "execution_count": null,
      "outputs": [
        {
          "output_type": "execute_result",
          "data": {
            "text/html": [
              "<img src=\"https://miro.medium.com/max/3200/1*QQVbuP2SEasB0XAmvjW0AA.jpeg\" width=\"400\" height=\"200\"/>"
            ],
            "text/plain": [
              "<IPython.core.display.Image object>"
            ]
          },
          "metadata": {
            "tags": []
          },
          "execution_count": 1
        }
      ]
    },
    {
      "cell_type": "markdown",
      "metadata": {
        "id": "bZ0rZ1MAt5Mm"
      },
      "source": [
        "Our goal is to build a neural network that can take one of these images and predict the digit in the image. Unlike the MNIST case, for this problem you will notice that the model **easily overfits**, so addressing this issue is an important problem here. To do so, we will experiment with early stopping, dropout, and L2 weight regularization.\n",
        "\n",
        "Note: a big part of the following material is a personal wrap-up of [Facebook's Deep Learning Course in Udacity](https://www.udacity.com/course/deep-learning-pytorch--ud188). So all credit goes for them!!"
      ]
    },
    {
      "cell_type": "code",
      "metadata": {
        "id": "UlsPXL2-t5Mm"
      },
      "source": [
        "%matplotlib inline\n",
        "%config InlineBackend.figure_format = 'retina'  #To get figures with high quality!\n",
        "\n",
        "import numpy as np\n",
        "import torch\n",
        "from torch import nn\n",
        "from torch import optim\n",
        "import matplotlib.pyplot as plt"
      ],
      "execution_count": null,
      "outputs": []
    },
    {
      "cell_type": "markdown",
      "metadata": {
        "id": "62aMa1Ewt5Mm"
      },
      "source": [
        "## Part I. Download FMNIST with `torchvision`\n",
        "\n",
        "The code below will download the MNIST dataset, then create training and test datasets for us. It is mostly the same code we used to download MNIST in the previous part of the Lab."
      ]
    },
    {
      "cell_type": "code",
      "metadata": {
        "id": "XTDJvuACt5Mn",
        "colab": {
          "base_uri": "https://localhost:8080/",
          "height": 434,
          "referenced_widgets": [
            "45dd3777c7a645eabbecb858e7913938",
            "0d53f6e7642b43cd9b920403a6d07d00",
            "11f56b9066654ff4b7de0077203dcdb4",
            "98625c179ef6477d89a04c12f808e7c9",
            "98be9a48c20d4af887ea229114004879",
            "52658d76176c44b8b4d8f00948c35448",
            "4c36471f627748a7b861c0e00dad31b8",
            "bc1d277015404c93a66ec8b19958f13b",
            "c92199e724f24676b63e70a27ebd0df9",
            "ffb9e5b30b99417c87c4da0b8d2d4832",
            "e44be7c3e0974cefa03ca09cc501053a",
            "1c50e48cad3c453ca6f95d6cc067e9e4",
            "5dceb5e50b014c00aaf61485984ca409",
            "e735b22bcea041f1b625bd93c4a7316a",
            "fc953160a75c4f67ab2e850e19e5becb",
            "98ddbe1669a0463287eaac71375a6cf5",
            "bf3b22a7261c41a1bd380fa15f409ec9",
            "d439b0e822b746f3affdd03091c2d357",
            "cfafbd535b7340bfb2da2b0dc282c402",
            "ecb2c0139e9e464fb7440a0be9c15e30",
            "3cecf0d027e14e60ab242f436d8a1285",
            "f4bb5ade7af54c02a98cd73aeee800bd",
            "d70bb497458b4a089b584300726b30b0",
            "909e59ac68bb48aa9639cb14749c1746",
            "9f243e3ddf7040e486501f7c62a99e9e",
            "e1c28d9cf27e4927af39a076fdc3e52b",
            "dbc3ce7c503545cea60417fd7ee67227",
            "81ccc1cf61cd44d6a47b7404dadd6bd4",
            "1c6a01645f1b4f5f9c1b4787a742dd67",
            "a978d29455224f9fa67e31499dacf105",
            "27c5758001e44855a2dad1047e9b7c13",
            "e3cd01549d9844a0950dd5d7950d7fef"
          ]
        },
        "outputId": "1bcdef51-5383-49f4-bd4c-6478caa049da"
      },
      "source": [
        "import torch\n",
        "from torchvision import datasets, transforms\n",
        "\n",
        "# Define a transform to normalize the data\n",
        "transform = transforms.Compose([transforms.ToTensor(),\n",
        "                                transforms.Normalize((0.5,), (0.5,))])\n",
        "# Download and load the training data\n",
        "trainset = datasets.FashionMNIST('~/.pytorch/F_MNIST_data/', download=True, train=True, transform=transform)\n",
        "trainloader = torch.utils.data.DataLoader(trainset, batch_size=64, shuffle=True)\n",
        "\n",
        "# Download and load the test data\n",
        "testset = datasets.FashionMNIST('~/.pytorch/F_MNIST_data/', download=True, train=False, transform=transform)\n",
        "testloader = torch.utils.data.DataLoader(testset, batch_size=64, shuffle=True)"
      ],
      "execution_count": null,
      "outputs": [
        {
          "output_type": "stream",
          "text": [
            "Downloading http://fashion-mnist.s3-website.eu-central-1.amazonaws.com/train-images-idx3-ubyte.gz to /root/.pytorch/F_MNIST_data/FashionMNIST/raw/train-images-idx3-ubyte.gz\n"
          ],
          "name": "stdout"
        },
        {
          "output_type": "display_data",
          "data": {
            "application/vnd.jupyter.widget-view+json": {
              "model_id": "45dd3777c7a645eabbecb858e7913938",
              "version_minor": 0,
              "version_major": 2
            },
            "text/plain": [
              "HBox(children=(FloatProgress(value=0.0, max=26421880.0), HTML(value='')))"
            ]
          },
          "metadata": {
            "tags": []
          }
        },
        {
          "output_type": "stream",
          "text": [
            "\n",
            "Extracting /root/.pytorch/F_MNIST_data/FashionMNIST/raw/train-images-idx3-ubyte.gz to /root/.pytorch/F_MNIST_data/FashionMNIST/raw\n",
            "Downloading http://fashion-mnist.s3-website.eu-central-1.amazonaws.com/train-labels-idx1-ubyte.gz to /root/.pytorch/F_MNIST_data/FashionMNIST/raw/train-labels-idx1-ubyte.gz\n"
          ],
          "name": "stdout"
        },
        {
          "output_type": "display_data",
          "data": {
            "application/vnd.jupyter.widget-view+json": {
              "model_id": "c92199e724f24676b63e70a27ebd0df9",
              "version_minor": 0,
              "version_major": 2
            },
            "text/plain": [
              "HBox(children=(FloatProgress(value=0.0, max=29515.0), HTML(value='')))"
            ]
          },
          "metadata": {
            "tags": []
          }
        },
        {
          "output_type": "stream",
          "text": [
            "\n",
            "Extracting /root/.pytorch/F_MNIST_data/FashionMNIST/raw/train-labels-idx1-ubyte.gz to /root/.pytorch/F_MNIST_data/FashionMNIST/raw\n",
            "Downloading http://fashion-mnist.s3-website.eu-central-1.amazonaws.com/t10k-images-idx3-ubyte.gz to /root/.pytorch/F_MNIST_data/FashionMNIST/raw/t10k-images-idx3-ubyte.gz\n"
          ],
          "name": "stdout"
        },
        {
          "output_type": "display_data",
          "data": {
            "application/vnd.jupyter.widget-view+json": {
              "model_id": "bf3b22a7261c41a1bd380fa15f409ec9",
              "version_minor": 0,
              "version_major": 2
            },
            "text/plain": [
              "HBox(children=(FloatProgress(value=0.0, max=4422102.0), HTML(value='')))"
            ]
          },
          "metadata": {
            "tags": []
          }
        },
        {
          "output_type": "stream",
          "text": [
            "\n",
            "Extracting /root/.pytorch/F_MNIST_data/FashionMNIST/raw/t10k-images-idx3-ubyte.gz to /root/.pytorch/F_MNIST_data/FashionMNIST/raw\n",
            "Downloading http://fashion-mnist.s3-website.eu-central-1.amazonaws.com/t10k-labels-idx1-ubyte.gz to /root/.pytorch/F_MNIST_data/FashionMNIST/raw/t10k-labels-idx1-ubyte.gz\n"
          ],
          "name": "stdout"
        },
        {
          "output_type": "display_data",
          "data": {
            "application/vnd.jupyter.widget-view+json": {
              "model_id": "9f243e3ddf7040e486501f7c62a99e9e",
              "version_minor": 0,
              "version_major": 2
            },
            "text/plain": [
              "HBox(children=(FloatProgress(value=0.0, max=5148.0), HTML(value='')))"
            ]
          },
          "metadata": {
            "tags": []
          }
        },
        {
          "output_type": "stream",
          "text": [
            "\n",
            "Extracting /root/.pytorch/F_MNIST_data/FashionMNIST/raw/t10k-labels-idx1-ubyte.gz to /root/.pytorch/F_MNIST_data/FashionMNIST/raw\n",
            "Processing...\n"
          ],
          "name": "stdout"
        },
        {
          "output_type": "stream",
          "text": [
            "/usr/local/lib/python3.7/dist-packages/torchvision/datasets/mnist.py:479: UserWarning: The given NumPy array is not writeable, and PyTorch does not support non-writeable tensors. This means you can write to the underlying (supposedly non-writeable) NumPy array using the tensor. You may want to copy the array to protect its data or make it writeable before converting it to a tensor. This type of warning will be suppressed for the rest of this program. (Triggered internally at  /pytorch/torch/csrc/utils/tensor_numpy.cpp:143.)\n",
            "  return torch.from_numpy(parsed.astype(m[2], copy=False)).view(*s)\n"
          ],
          "name": "stderr"
        },
        {
          "output_type": "stream",
          "text": [
            "Done!\n"
          ],
          "name": "stdout"
        }
      ]
    },
    {
      "cell_type": "markdown",
      "metadata": {
        "id": "UrSzCIObt5Mn"
      },
      "source": [
        "Lets take a look to the mini-batch size and plot a sample."
      ]
    },
    {
      "cell_type": "code",
      "metadata": {
        "colab": {
          "base_uri": "https://localhost:8080/"
        },
        "id": "tu-Be3xTt5Mn",
        "outputId": "7585e76f-779f-477a-b258-3cdc096228f4"
      },
      "source": [
        "dataiter = iter(trainloader)   #To iterate through the dataset\n",
        "\n",
        "images, labels = dataiter.next()\n",
        "print(type(images))\n",
        "print(images.shape)\n",
        "print(labels.shape)\n"
      ],
      "execution_count": null,
      "outputs": [
        {
          "output_type": "stream",
          "text": [
            "<class 'torch.Tensor'>\n",
            "torch.Size([64, 1, 28, 28])\n",
            "torch.Size([64])\n"
          ],
          "name": "stdout"
        }
      ]
    },
    {
      "cell_type": "markdown",
      "metadata": {
        "id": "h02SIdbCt5Mn"
      },
      "source": [
        "This is what one of the images looks like. "
      ]
    },
    {
      "cell_type": "code",
      "metadata": {
        "colab": {
          "base_uri": "https://localhost:8080/",
          "height": 282
        },
        "id": "bqOzYXIWt5Mo",
        "outputId": "26acd8ad-3796-42b2-997e-1ab85186f531"
      },
      "source": [
        "plt.imshow(images[1].numpy().reshape([28,28]), cmap='Greys_r')"
      ],
      "execution_count": null,
      "outputs": [
        {
          "output_type": "execute_result",
          "data": {
            "text/plain": [
              "<matplotlib.image.AxesImage at 0x7f042d07d850>"
            ]
          },
          "metadata": {
            "tags": []
          },
          "execution_count": 5
        },
        {
          "output_type": "display_data",
          "data": {
            "image/png": "[encoded data removed]",
            "text/plain": [
              "<Figure size 432x288 with 1 Axes>"
            ]
          },
          "metadata": {
            "tags": [],
            "image/png": {
              "width": 251,
              "height": 248
            },
            "needs_background": "light"
          }
        }
      ]
    },
    {
      "cell_type": "markdown",
      "metadata": {
        "id": "h9TI3Hf6t5Mo"
      },
      "source": [
        "## Part II. Visualize overfiting\n",
        "\n",
        "> **Exercise**: Train a Neural Network with four layers, hidden dimmensions 256, 128 and 64 neurons. Use ReLU activation functions, and a log-Softmax output layer. To do so, complete the following steps: \n",
        "> - Create a class defining the NN model \n",
        "> - Extend the class to incorporate a training method. **Call it trainloop instead of train**. The reason will be clear later.\n",
        "> - Train the model for 30 epochs and evaluate train/test performance"
      ]
    },
    {
      "cell_type": "code",
      "metadata": {
        "id": "K5N0anvOt5Mo"
      },
      "source": [
        "class MLP(nn.Module):\n",
        "    def __init__(self,dimx,hidden1,hidden2,hidden3,nlabels): #Nlabels will be 10 in our case\n",
        "        super().__init__()\n",
        "        \n",
        "        self.output1 = nn.Linear(dimx,hidden1)\n",
        "        \n",
        "        self.output2 = nn.Linear(hidden1,hidden2)\n",
        "\n",
        "        self.output3 = nn.Linear(hidden2,hidden3)\n",
        "        \n",
        "        self.output4 = nn.Linear(hidden3,nlabels)\n",
        "    \n",
        "        self.relu = nn.ReLU()\n",
        "        \n",
        "        self.logsoftmax = nn.LogSoftmax(dim=1)                                                             \n",
        "        \n",
        "    def forward(self, x):\n",
        "        # Pass the input tensor through each of our operations\n",
        "        x = self.output1(x)\n",
        "        x = self.relu(x)\n",
        "        x = self.output2(x)\n",
        "        x = self.relu(x)\n",
        "        x = self.output3(x)\n",
        "        x = self.relu(x)\n",
        "        x = self.output4(x)\n",
        "        x = self.logsoftmax(x)\n",
        "        return x"
      ],
      "execution_count": null,
      "outputs": []
    },
    {
      "cell_type": "code",
      "metadata": {
        "id": "qQ7N-2Qrt5Mo"
      },
      "source": [
        "class MLP_extended(MLP):\n",
        "    \n",
        "    def __init__(self,dimx,hidden1,hidden2,hidden3,nlabels,epochs=100,lr=0.001):\n",
        "        \n",
        "        super().__init__(dimx,hidden1,hidden2,hidden3,nlabels)  #To initialize MLP!\n",
        "        \n",
        "        self.lr = lr #Learning Rate      \n",
        "        self.optim = optim.Adam(self.parameters(), self.lr)       \n",
        "        self.epochs = epochs       \n",
        "        self.criterion = nn.NLLLoss()\n",
        "        \n",
        "        # A list to store the loss evolution along training\n",
        "        self.loss_during_training = [] \n",
        "        \n",
        "        \n",
        "    def trainloop(self,loader):     \n",
        "        # Adam Loop  \n",
        "        for e in range(int(self.epochs)): \n",
        "            running_loss = 0.\n",
        "\n",
        "            for (images, labels) in trainloader:            \n",
        "                self.optim.zero_grad()  #TO RESET GRADIENTS!\n",
        "                out = self.forward(images.view(images.shape[0], -1))\n",
        "                loss = self.criterion(out, labels)\n",
        "                running_loss += loss.item()\n",
        "                loss.backward()\n",
        "                self.optim.step()\n",
        "      \n",
        "            self.loss_during_training.append(running_loss/len(trainloader))\n",
        "\n",
        "            if(e % 1 == 0): # Every 10 epochs \n",
        "                      print(\"Training loss after %d iterations: %f\" \n",
        "                      %(e,self.loss_during_training[-1]))\n",
        "                \n",
        "    def accuracy(self, loader):\n",
        "        accuracy = 0\n",
        "\n",
        "        # Turn off gradients for validation, saves memory and computations\n",
        "        with torch.no_grad():\n",
        "          for (images, labels) in loader:\n",
        "            logprobs = self.forward(images.view(images.shape[0], -1)) # We use a log-softmax, to get log-probabilities\n",
        "            top_p, top_class = logprobs.topk(1, dim=1)\n",
        "            equals = (top_class == labels.view(images.shape[0], 1))\n",
        "            accuracy += torch.mean(equals.type(torch.FloatTensor))              \n",
        "        print(\"Accuracy %f\" %(accuracy/len(loader)))\n",
        "        return accuracy/len(loader)\n",
        "         # print(f'The accuracy in the {part} dataset is: {accuracy/len(loader)}')"
      ],
      "execution_count": null,
      "outputs": []
    },
    {
      "cell_type": "code",
      "metadata": {
        "id": "e81SVyv8t5Mo",
        "colab": {
          "base_uri": "https://localhost:8080/"
        },
        "outputId": "e76203dc-45a5-4003-90ad-bab28e40efe0"
      },
      "source": [
        "#YOUR CODE HERE\n",
        "\n",
        "my_MLP = MLP_extended(dimx = 784, hidden1 = 256, hidden2 = 128, hidden3 = 64, nlabels = 10, \n",
        "                   epochs = 30, lr = 1e-3)\n",
        "my_MLP.trainloop(trainloader)\n",
        "\n",
        "print(\"Train Accuracy %f\" %(my_MLP.accuracy(trainloader)))\n",
        "print(\"Test Accuracy %f\" %(my_MLP.accuracy(testloader)))"
      ],
      "execution_count": null,
      "outputs": [
        {
          "output_type": "stream",
          "text": [
            "Training loss after 0 iterations: 0.514332\n",
            "Training loss after 1 iterations: 0.376515\n",
            "Training loss after 2 iterations: 0.337254\n",
            "Training loss after 3 iterations: 0.314028\n",
            "Training loss after 4 iterations: 0.295707\n",
            "Training loss after 5 iterations: 0.279895\n",
            "Training loss after 6 iterations: 0.265196\n",
            "Training loss after 7 iterations: 0.254273\n",
            "Training loss after 8 iterations: 0.241896\n",
            "Training loss after 9 iterations: 0.229161\n",
            "Training loss after 10 iterations: 0.221586\n",
            "Training loss after 11 iterations: 0.213028\n",
            "Training loss after 12 iterations: 0.202687\n",
            "Training loss after 13 iterations: 0.194322\n",
            "Training loss after 14 iterations: 0.184308\n",
            "Training loss after 15 iterations: 0.177330\n",
            "Training loss after 16 iterations: 0.171347\n",
            "Training loss after 17 iterations: 0.165421\n",
            "Training loss after 18 iterations: 0.159635\n",
            "Training loss after 19 iterations: 0.149614\n",
            "Training loss after 20 iterations: 0.149128\n",
            "Training loss after 21 iterations: 0.142171\n",
            "Training loss after 22 iterations: 0.136405\n",
            "Training loss after 23 iterations: 0.131625\n",
            "Training loss after 24 iterations: 0.127809\n",
            "Training loss after 25 iterations: 0.122403\n",
            "Training loss after 26 iterations: 0.116550\n",
            "Training loss after 27 iterations: 0.115192\n",
            "Training loss after 28 iterations: 0.107300\n",
            "Training loss after 29 iterations: 0.107105\n",
            "Accuracy 0.965135\n",
            "Train Accuracy 0.965135\n",
            "Accuracy 0.886545\n",
            "Test Accuracy 0.886545\n"
          ],
          "name": "stdout"
        }
      ]
    },
    {
      "cell_type": "markdown",
      "metadata": {
        "id": "nvO18w61t5Mp"
      },
      "source": [
        "In light of the train/test performance, certainly the model is performing significantly better in the train set than in the test set. This is a sign of overfitting. For an early detection of overfitting, we will make use of a **validation set** that we will use to visualize the evolution of the loss function during training. \n",
        "\n",
        "With the following code we split the train set into one training set (45k images) and a validation set (15k images). We do a naive splitting assuming that the data is randomized. **Keep in mind that in general you can do something smarter than this like K-Fold cross validation**, but here we keep it simple.\n",
        "\n"
      ]
    },
    {
      "cell_type": "code",
      "metadata": {
        "id": "pEGNV2rWt5Mp"
      },
      "source": [
        "import copy\n",
        "\n",
        "\n",
        "validloader = copy.deepcopy(trainloader)  # Creates a copy of the object \n",
        "\n",
        "#We take the first 45k images for training\n",
        "trainloader.dataset.data = trainloader.dataset.data[:45000,:,:]\n",
        "trainloader.dataset.targets = trainloader.dataset.targets[:45000]\n",
        "\n",
        "#And the rest for validation\n",
        "validloader.dataset.data = validloader.dataset.data[45000:,:,:]\n",
        "validloader.dataset.targets = validloader.dataset.targets[45000:]\n",
        "\n"
      ],
      "execution_count": null,
      "outputs": []
    },
    {
      "cell_type": "markdown",
      "metadata": {
        "id": "KeV-1_I_t5Mp"
      },
      "source": [
        "> **Exercise**: Modify your code class above so that, during training, everytime an epoch is finished you compute the loss function over the validation set. You must store these values into a list name as `valid_loss_during_training`. When performing this step, do not forget to turn off gradients by using `with torch.no_grad()`.\n",
        ">\n",
        ">Then, repeat the training (30 epochs) and plot the train/validation loss along epochs. Compute the final train/validation/test performance."
      ]
    },
    {
      "cell_type": "code",
      "metadata": {
        "id": "qX6wCOMVt5Mq"
      },
      "source": [
        "#YOUR CODE HERE\n",
        "\n",
        "class MLP_extended_2(MLP):\n",
        "    \n",
        "    def __init__(self,dimx,hidden1,hidden2,hidden3,nlabels,epochs=100,lr=0.001):   \n",
        "        super().__init__(dimx,hidden1,hidden2,hidden3,nlabels)  #To initialize MLP!      \n",
        "        self.lr = lr #Learning Rate      \n",
        "        self.optim = optim.Adam(self.parameters(), self.lr)      \n",
        "        self.epochs = epochs       \n",
        "        self.criterion = nn.NLLLoss()    \n",
        "        self.loss_during_training = []\n",
        "        # A list to store the loss evolution along validation    \n",
        "        self.valid_loss_during_training = [] \n",
        "\n",
        "    def valid_loss(self, validloader): \n",
        "        if validloader is not None:  \n",
        "            with torch.no_grad():\n",
        "                running_loss = 0.    \n",
        "                for (images, labels) in validloader:\n",
        "                    out = self.forward(images.view(images.shape[0], -1))\n",
        "                    loss = self.criterion(out, labels)\n",
        "                    running_loss += loss.item()    \n",
        "                self.valid_loss_during_training.append(running_loss/len(validloader))    \n",
        "        else:  \n",
        "            raise ValueError('validloader must contain data.')        \n",
        "          \n",
        "    def trainloop(self,trainloader,validloader = None):     \n",
        "        # Adam Loop     \n",
        "        for e in range(int(self.epochs)):      \n",
        "            running_loss = 0.\n",
        "\n",
        "            for images, labels in trainloader:             \n",
        "                self.optim.zero_grad()  #TO RESET GRADIENTS!\n",
        "                out = self.forward(images.view(images.shape[0], -1))             \n",
        "                loss = self.criterion(out, labels)\n",
        "                running_loss += loss.item()\n",
        "                loss.backward()\n",
        "                self.optim.step()       \n",
        "\n",
        "            self.loss_during_training.append(running_loss/len(trainloader))\n",
        "            if validloader is not None:\n",
        "                self.valid_loss(validloader)\n",
        "\n",
        "            if(e % 1 == 0): # Every 1 epochs              \n",
        "                print(\"Training loss after %d iterations: %f\" \n",
        "                      %(e,self.loss_during_training[-1]))              \n",
        "                print(\"Validation loss after %d epochs: %f\" \n",
        "                      %(e,self.valid_loss_during_training[-1]))           \n",
        "\n",
        "    def accuracy(self, loader):     \n",
        "        accuracy = 0\n",
        "        # Turn off gradients for validation, saves memory and computations\n",
        "        with torch.no_grad():\n",
        "          for (images, labels) in loader:\n",
        "            logprobs = self.forward(images.view(images.shape[0], -1)) # We use a log-softmax, to get log-probabilities\n",
        "            top_p, top_class = logprobs.topk(1, dim=1)\n",
        "            equals = (top_class == labels.view(images.shape[0], 1))\n",
        "            accuracy += torch.mean(equals.type(torch.FloatTensor))     \n",
        "        return accuracy/len(loader)  \n",
        "        "
      ],
      "execution_count": null,
      "outputs": []
    },
    {
      "cell_type": "code",
      "metadata": {
        "colab": {
          "base_uri": "https://localhost:8080/"
        },
        "id": "FnfCqEQiO4xH",
        "outputId": "1f43d418-2b2e-4c43-985c-6b19fe09aa0a"
      },
      "source": [
        "\n",
        "\n",
        "my_MLP_2 = MLP_extended_2(dimx=784, hidden1=256,hidden2=128, hidden3=64,nlabels=10,epochs=30,lr=1e-3)\n",
        "\n",
        "my_MLP_2.trainloop(trainloader, validloader)\n",
        "\n",
        "print(\"Train Accuracy %f\" %(my_MLP_2.accuracy(trainloader)))\n",
        "print(\"Valid Accuracy %f\" %(my_MLP_2.accuracy(validloader)))\n",
        "print(\"Test Accuracy %f\" %(my_MLP_2.accuracy(testloader)))"
      ],
      "execution_count": null,
      "outputs": [
        {
          "output_type": "stream",
          "text": [
            "Training loss after 0 iterations: 0.544167\n",
            "Validation loss after 0 epochs: 0.481442\n",
            "Training loss after 1 iterations: 0.393214\n",
            "Validation loss after 1 epochs: 0.374740\n",
            "Training loss after 2 iterations: 0.356927\n",
            "Validation loss after 2 epochs: 0.363331\n",
            "Training loss after 3 iterations: 0.324524\n",
            "Validation loss after 3 epochs: 0.330733\n",
            "Training loss after 4 iterations: 0.302071\n",
            "Validation loss after 4 epochs: 0.343655\n",
            "Training loss after 5 iterations: 0.289807\n",
            "Validation loss after 5 epochs: 0.325672\n",
            "Training loss after 6 iterations: 0.274117\n",
            "Validation loss after 6 epochs: 0.331159\n",
            "Training loss after 7 iterations: 0.260916\n",
            "Validation loss after 7 epochs: 0.340316\n",
            "Training loss after 8 iterations: 0.248810\n",
            "Validation loss after 8 epochs: 0.328825\n",
            "Training loss after 9 iterations: 0.235614\n",
            "Validation loss after 9 epochs: 0.326862\n",
            "Training loss after 10 iterations: 0.224128\n",
            "Validation loss after 10 epochs: 0.348474\n",
            "Training loss after 11 iterations: 0.214733\n",
            "Validation loss after 11 epochs: 0.360164\n",
            "Training loss after 12 iterations: 0.206491\n",
            "Validation loss after 12 epochs: 0.326046\n",
            "Training loss after 13 iterations: 0.198876\n",
            "Validation loss after 13 epochs: 0.321992\n",
            "Training loss after 14 iterations: 0.191615\n",
            "Validation loss after 14 epochs: 0.336314\n",
            "Training loss after 15 iterations: 0.183874\n",
            "Validation loss after 15 epochs: 0.338820\n",
            "Training loss after 16 iterations: 0.170883\n",
            "Validation loss after 16 epochs: 0.361142\n",
            "Training loss after 17 iterations: 0.162569\n",
            "Validation loss after 17 epochs: 0.344342\n",
            "Training loss after 18 iterations: 0.159061\n",
            "Validation loss after 18 epochs: 0.382616\n",
            "Training loss after 19 iterations: 0.151321\n",
            "Validation loss after 19 epochs: 0.364853\n",
            "Training loss after 20 iterations: 0.143451\n",
            "Validation loss after 20 epochs: 0.377285\n",
            "Training loss after 21 iterations: 0.139311\n",
            "Validation loss after 21 epochs: 0.375473\n",
            "Training loss after 22 iterations: 0.133236\n",
            "Validation loss after 22 epochs: 0.410801\n",
            "Training loss after 23 iterations: 0.130791\n",
            "Validation loss after 23 epochs: 0.409971\n",
            "Training loss after 24 iterations: 0.123719\n",
            "Validation loss after 24 epochs: 0.403765\n",
            "Training loss after 25 iterations: 0.115994\n",
            "Validation loss after 25 epochs: 0.422217\n",
            "Training loss after 26 iterations: 0.114253\n",
            "Validation loss after 26 epochs: 0.435125\n",
            "Training loss after 27 iterations: 0.111564\n",
            "Validation loss after 27 epochs: 0.443965\n",
            "Training loss after 28 iterations: 0.105222\n",
            "Validation loss after 28 epochs: 0.431890\n",
            "Training loss after 29 iterations: 0.101432\n",
            "Validation loss after 29 epochs: 0.456315\n",
            "Train Accuracy 0.967862\n",
            "Valid Accuracy 0.891068\n",
            "Test Accuracy 0.879479\n"
          ],
          "name": "stdout"
        }
      ]
    },
    {
      "cell_type": "code",
      "metadata": {
        "colab": {
          "base_uri": "https://localhost:8080/",
          "height": 295
        },
        "id": "aNaN7eg3A2n2",
        "outputId": "9cfbe1e3-d46b-43b6-ea75-4217d4ac0943"
      },
      "source": [
        "plt.plot(my_MLP_2.loss_during_training)\n",
        "plt.plot(my_MLP_2.valid_loss_during_training)\n",
        "plt.grid()\n",
        "plt.xlabel('Iteration')\n",
        "plt.ylabel('Loss Functions')"
      ],
      "execution_count": null,
      "outputs": [
        {
          "output_type": "execute_result",
          "data": {
            "text/plain": [
              "Text(0, 0.5, 'Loss Functions')"
            ]
          },
          "metadata": {
            "tags": []
          },
          "execution_count": 15
        },
        {
          "output_type": "display_data",
          "data": {
            "image/png": "[encoded data removed]",
            "text/plain": [
              "<Figure size 432x288 with 1 Axes>"
            ]
          },
          "metadata": {
            "tags": [],
            "image/png": {
              "width": 387,
              "height": 261
            },
            "needs_background": "light"
          }
        }
      ]
    },
    {
      "cell_type": "markdown",
      "metadata": {
        "id": "rcbXSmFfDTJm"
      },
      "source": [
        "As can be seen from the previous plot, early stopping at a number of 8 epochs would prevent the model from overfitting, as from there the validation loss function starts increasing."
      ]
    },
    {
      "cell_type": "markdown",
      "metadata": {
        "id": "906vjwrIt5Mq"
      },
      "source": [
        "If we look at the training and validation losses as we train the network, we can see a phenomenon known as overfitting. \n",
        "\n",
        "The network learns the training set better and better, resulting in lower training losses. However, it starts having problems generalizing to data outside the training set leading to the validation loss increasing. The ultimate goal of any deep learning model is to make predictions on new data, so we should strive to get the lowest validation loss possible. One option is to use the version of the model with the lowest validation loss, here the one around 8-10 training epochs. This strategy is called *early-stopping*. In practice, you'd save the model frequently as you're training then later choose the model with the lowest validation loss. **Note that with early stopping we are using the validation set to select the appropiate number of epochs.**\n",
        "\n",
        "> **Exercise:** According to your results, re-train the model again for the right number of epochs (just before the validation loss starts to grow). Compare the train, validation and test performance."
      ]
    },
    {
      "cell_type": "code",
      "metadata": {
        "id": "TI41MazNt5Mq",
        "colab": {
          "base_uri": "https://localhost:8080/"
        },
        "outputId": "4b8b4357-84b0-4d2d-94f1-015eaa5a4e3a"
      },
      "source": [
        "#YOUR CODE HERE\n",
        "\n",
        "#Number of epochs is 5\n",
        "\n",
        "my_MLP_2 = MLP_extended_2(dimx = 784, hidden1 = 256, hidden2 = 128, hidden3 = 64, nlabels = 10, \n",
        "                       epochs = 8, lr = 1e-3)\n",
        "my_MLP_2.trainloop(trainloader, validloader)\n",
        "\n",
        "\n",
        "\n",
        "print(\"Train Accuracy %f\" %(my_MLP_2.accuracy(trainloader)))\n",
        "print(\"Valid Accuracy %f\" %(my_MLP_2.accuracy(validloader)))\n",
        "print(\"Test Accuracy %f\" %(my_MLP_2.accuracy(testloader)))"
      ],
      "execution_count": null,
      "outputs": [
        {
          "output_type": "stream",
          "text": [
            "Training loss after 0 iterations: 0.549523\n",
            "Validation loss after 0 epochs: 0.460250\n",
            "Training loss after 1 iterations: 0.390400\n",
            "Validation loss after 1 epochs: 0.390447\n",
            "Training loss after 2 iterations: 0.352947\n",
            "Validation loss after 2 epochs: 0.382386\n",
            "Training loss after 3 iterations: 0.322489\n",
            "Validation loss after 3 epochs: 0.362472\n",
            "Training loss after 4 iterations: 0.303717\n",
            "Validation loss after 4 epochs: 0.338099\n",
            "Training loss after 5 iterations: 0.283516\n",
            "Validation loss after 5 epochs: 0.350386\n",
            "Training loss after 6 iterations: 0.270495\n",
            "Validation loss after 6 epochs: 0.348970\n",
            "Training loss after 7 iterations: 0.257947\n",
            "Validation loss after 7 epochs: 0.344418\n",
            "Train Accuracy 0.907604\n",
            "Valid Accuracy 0.877128\n",
            "Test Accuracy 0.874005\n"
          ],
          "name": "stdout"
        }
      ]
    },
    {
      "cell_type": "markdown",
      "metadata": {
        "id": "FBR7RS2MARrs"
      },
      "source": [
        "The train performance is slightly better than the validation and the test ones, nevertheless, both accuracies are quite high (above 87.5%), showing an appropriate performance of the sets."
      ]
    },
    {
      "cell_type": "markdown",
      "metadata": {
        "id": "fewKULcAt5Mr"
      },
      "source": [
        "## Part III. Using Dropout Regularization\n",
        "\n",
        "The most common method to reduce overfitting (outside of early-stopping) is *dropout*, where we randomly drop input units. This forces the network to share information between weights, increasing it's ability to generalize to new data. Adding dropout in PyTorch is straightforward using the [`nn.Dropout`](https://pytorch.org/docs/stable/nn.html#torch.nn.Dropout) module.\n",
        "\n",
        "The following code corresponds to a 2 layer NN where we use dropout in the intermediate hidden space:\n",
        "\n",
        "\n",
        "```python\n",
        "class MLP_dropout(nn.Module):\n",
        "    def __init__(self,dimx,hidden1,nlabels): #Nlabels will be 10 in our case\n",
        "        super().__init__()\n",
        "        \n",
        "        self.output1 = nn.Linear(dimx,hidden1)  \n",
        "        \n",
        "        self.output2 = nn.Linear(hidden1,nlabels)\n",
        "    \n",
        "        self.relu = nn.ReLU()\n",
        "        \n",
        "        self.logsoftmax = nn.LogSoftmax(dim=1)  \n",
        "        \n",
        "        # Dropout module with 0.2 drop probability\n",
        "        self.dropout = nn.Dropout(p=0.2)\n",
        "        \n",
        "    def forward(self, x):\n",
        "        # Pass the input tensor through each of our operations\n",
        "        x = self.output1(x)\n",
        "        x = self.relu(x)\n",
        "        x = self.dropout(x)\n",
        "        x = self.output2(x)\n",
        "        x = self.logsoftmax(x) #YOUR CODE HERE\n",
        "        return x\n",
        "\n",
        "```\n",
        "\n",
        "During training we want to use dropout to prevent overfitting, but during inference we want to use the entire network. So, we need to turn off dropout during validation, testing, and whenever we're using the network to make predictions. To do this, you use `self.eval()`. This sets the model to evaluation mode where the dropout probability is 0. You can turn dropout back on by setting the model to train mode with `self.train()` (**This is why we cannot call our training method `train` anymore**). In general, the pattern for the validation loop will look like this, where you turn off gradients, set the model to evaluation mode, calculate the validation loss and metric, then set the model back to train mode.\n",
        "\n",
        "```python\n",
        "# turn off gradients\n",
        "with torch.no_grad():\n",
        "    \n",
        "    # set model to evaluation mode\n",
        "    self.eval()\n",
        "    \n",
        "    # validation pass here\n",
        "    for images, labels in testloader:\n",
        "        ...\n",
        "\n",
        "# set model back to train mode\n",
        "self.train()\n",
        "```\n",
        "\n",
        "> **Exercise:** \n",
        "> - Create a new NN class that modifies the previous one by incorporating a dropout step with `p=0.2`  after every ReLU non-linearity is applied. \n",
        "> - Modified the extended clases to set `model.eval()` when appropiate (do not forget to go back to `model.train()`)\n",
        "> - For this new model, plot the evolution of the training and validation losses. Compare with the case with no dropout. Discuss the results. Is early stopping still required? If so, when you should stop training? Compare the train, validation and test performance.\n",
        "> - Repeat the experiments for a dropout probability of `p=0.1` and `p=0.3`. Which value provides the best validation performance? "
      ]
    },
    {
      "cell_type": "code",
      "metadata": {
        "id": "KTWbqozOt5Ms"
      },
      "source": [
        "class MLP_drop(nn.Module):\n",
        "    def __init__(self,dimx,hidden1,hidden2,hidden3,nlabels): #Nlabels will be 10 in our case\n",
        "        super().__init__()\n",
        "        self.output1 = nn.Linear(dimx,hidden1)      \n",
        "        self.output2 = nn.Linear(hidden1,hidden2)\n",
        "        self.output3 = nn.Linear(hidden2,hidden3)        \n",
        "        self.output4 = nn.Linear(hidden3,nlabels)    \n",
        "        self.relu = nn.ReLU()        \n",
        "        self.logsoftmax = nn.LogSoftmax(dim=1)\n",
        "        # Dropout module with 0.2 drop probability\n",
        "        self.dropout = nn.Dropout(p=0.2)\n",
        "\n",
        "    def forward(self, x):\n",
        "        # Pass the input tensor through each of our operations\n",
        "        x = self.output1(x)\n",
        "        x = self.relu(x)\n",
        "        x = self.dropout(x)\n",
        "        x = self.output2(x)\n",
        "        x = self.relu(x)\n",
        "        x = self.dropout(x)\n",
        "        x = self.output3(x)\n",
        "        x = self.relu(x)\n",
        "        x = self.dropout(x)\n",
        "        x = self.output4(x)\n",
        "        x = self.logsoftmax(x)\n",
        "        return x"
      ],
      "execution_count": null,
      "outputs": []
    },
    {
      "cell_type": "code",
      "metadata": {
        "id": "vAi6PPOkt5Ms"
      },
      "source": [
        "class MLPdrop_extended(MLP_drop):\n",
        "\n",
        "    def __init__(self,dimx,hidden1,hidden2,hidden3,nlabels,epochs=100,lr=0.001):    \n",
        "        super().__init__(dimx,hidden1,hidden2,hidden3,nlabels)  #To initialize MLP!     \n",
        "        self.lr = lr #Learning Rate   \n",
        "        self.optim = optim.Adam(self.parameters(), self.lr)      \n",
        "        self.epochs = epochs     \n",
        "        self.criterion = nn.NLLLoss()       \n",
        "        self.loss_during_training = [] # Store the loss evolution along training\n",
        "        # A list to store the loss evolution along validation        \n",
        "        self.valid_loss_during_training = [] \n",
        "        \n",
        "    def valid_loss(self, validloader):\n",
        "        if validloader is not None:\n",
        "            with torch.no_grad():\n",
        "                self.eval()\n",
        "                running_loss = 0.\n",
        "                for (images, labels) in validloader:\n",
        "                    out = self.forward(images.view(images.shape[0], -1))\n",
        "                    loss = self.criterion(out, labels)\n",
        "                    running_loss += loss.item()\n",
        "                self.valid_loss_during_training.append(running_loss/len(validloader))\n",
        "        else:\n",
        "            raise ValueError('validloader must contain data.')\n",
        "\n",
        "    # set model back to train mode\n",
        "        self.train() \n",
        "\n",
        "    def trainloop(self,trainloader, validloader = None):       \n",
        "        # Adam Loop        \n",
        "        for e in range(int(self.epochs)):     \n",
        "            running_loss = 0.\n",
        "            for images, labels in trainloader:           \n",
        "                self.optim.zero_grad()  #TO RESET GRADIENTS!\n",
        "                out = self.forward(images.view(images.shape[0], -1))                \n",
        "                loss = self.criterion(out, labels)\n",
        "                running_loss += loss.item()\n",
        "                loss.backward()\n",
        "                self.optim.step()       \n",
        "            self.loss_during_training.append(running_loss/len(trainloader))\n",
        "            if validloader is not None:\n",
        "                self.valid_loss(validloader)\n",
        "\n",
        "            if(e % 1 == 0): # Every 10 epochs               \n",
        "                print(\"Training loss after %d iterations: %f\" \n",
        "                      %(e,self.loss_during_training[-1]))\n",
        "                print(\"Validation loss after %d epochs: %f\" \n",
        "                      %(e,self.valid_loss_during_training[-1]))  \n",
        "                \n",
        "    def accuracy(self, loader):     \n",
        "        accuracy = 0\n",
        "        # Turn off gradients for validation, saves memory and computations\n",
        "        with torch.no_grad():\n",
        "          for (images, labels) in loader:\n",
        "            logprobs = self.forward(images.view(images.shape[0], -1)) # We use a log-softmax, to get log-probabilities\n",
        "            top_p, top_class = logprobs.topk(1, dim=1)\n",
        "            equals = (top_class == labels.view(images.shape[0], 1))\n",
        "            accuracy += torch.mean(equals.type(torch.FloatTensor))     \n",
        "        return accuracy/len(loader)         "
      ],
      "execution_count": null,
      "outputs": []
    },
    {
      "cell_type": "code",
      "metadata": {
        "id": "ZHUmZpxyt5Ms",
        "colab": {
          "base_uri": "https://localhost:8080/"
        },
        "outputId": "3620e08c-7121-4aad-b2ee-72c51243f348"
      },
      "source": [
        "#YOUR CODE HERE\n",
        "\n",
        "my_MLP_drop = MLPdrop_extended(dimx=784, hidden1=256,hidden2=128, hidden3=64,nlabels=10,epochs=30,lr=1e-3)\n",
        "\n",
        "my_MLP_drop.trainloop(trainloader, validloader)\n",
        "\n",
        "print(\"Train Accuracy %f\" %(my_MLP_drop.accuracy(trainloader)))\n",
        "print(\"Valid Accuracy %f\" %(my_MLP_drop.accuracy(validloader)))\n",
        "print(\"Test Accuracy %f\" %(my_MLP_drop.accuracy(testloader)))"
      ],
      "execution_count": null,
      "outputs": [
        {
          "output_type": "stream",
          "text": [
            "Training loss after 0 iterations: 0.634693\n",
            "Validation loss after 0 epochs: 0.449188\n",
            "Training loss after 1 iterations: 0.452535\n",
            "Validation loss after 1 epochs: 0.409891\n",
            "Training loss after 2 iterations: 0.411154\n",
            "Validation loss after 2 epochs: 0.377146\n",
            "Training loss after 3 iterations: 0.391053\n",
            "Validation loss after 3 epochs: 0.389533\n",
            "Training loss after 4 iterations: 0.364889\n",
            "Validation loss after 4 epochs: 0.351285\n",
            "Training loss after 5 iterations: 0.357609\n",
            "Validation loss after 5 epochs: 0.374423\n",
            "Training loss after 6 iterations: 0.341022\n",
            "Validation loss after 6 epochs: 0.349320\n",
            "Training loss after 7 iterations: 0.332215\n",
            "Validation loss after 7 epochs: 0.335907\n",
            "Training loss after 8 iterations: 0.318118\n",
            "Validation loss after 8 epochs: 0.332433\n",
            "Training loss after 9 iterations: 0.313914\n",
            "Validation loss after 9 epochs: 0.333122\n",
            "Training loss after 10 iterations: 0.304438\n",
            "Validation loss after 10 epochs: 0.333291\n",
            "Training loss after 11 iterations: 0.292152\n",
            "Validation loss after 11 epochs: 0.330916\n",
            "Training loss after 12 iterations: 0.289308\n",
            "Validation loss after 12 epochs: 0.322901\n",
            "Training loss after 13 iterations: 0.282804\n",
            "Validation loss after 13 epochs: 0.323609\n",
            "Training loss after 14 iterations: 0.281124\n",
            "Validation loss after 14 epochs: 0.324691\n",
            "Training loss after 15 iterations: 0.272919\n",
            "Validation loss after 15 epochs: 0.320684\n",
            "Training loss after 16 iterations: 0.267641\n",
            "Validation loss after 16 epochs: 0.321302\n",
            "Training loss after 17 iterations: 0.264149\n",
            "Validation loss after 17 epochs: 0.320558\n",
            "Training loss after 18 iterations: 0.261827\n",
            "Validation loss after 18 epochs: 0.323605\n",
            "Training loss after 19 iterations: 0.251182\n",
            "Validation loss after 19 epochs: 0.331110\n",
            "Training loss after 20 iterations: 0.253979\n",
            "Validation loss after 20 epochs: 0.336913\n",
            "Training loss after 21 iterations: 0.246243\n",
            "Validation loss after 21 epochs: 0.317058\n",
            "Training loss after 22 iterations: 0.244176\n",
            "Validation loss after 22 epochs: 0.320904\n",
            "Training loss after 23 iterations: 0.238826\n",
            "Validation loss after 23 epochs: 0.325979\n",
            "Training loss after 24 iterations: 0.240191\n",
            "Validation loss after 24 epochs: 0.323763\n",
            "Training loss after 25 iterations: 0.233236\n",
            "Validation loss after 25 epochs: 0.349707\n",
            "Training loss after 26 iterations: 0.232447\n",
            "Validation loss after 26 epochs: 0.319792\n",
            "Training loss after 27 iterations: 0.231682\n",
            "Validation loss after 27 epochs: 0.321590\n",
            "Training loss after 28 iterations: 0.223086\n",
            "Validation loss after 28 epochs: 0.323850\n",
            "Training loss after 29 iterations: 0.220245\n",
            "Validation loss after 29 epochs: 0.337428\n",
            "Train Accuracy 0.916903\n",
            "Valid Accuracy 0.877615\n",
            "Test Accuracy 0.872114\n"
          ],
          "name": "stdout"
        }
      ]
    },
    {
      "cell_type": "code",
      "metadata": {
        "colab": {
          "base_uri": "https://localhost:8080/",
          "height": 295
        },
        "id": "3L6JSBx4t-M1",
        "outputId": "56fceca0-6a70-492d-87e2-f819354133ed"
      },
      "source": [
        "plt.plot(my_MLP_drop.loss_during_training)\n",
        "plt.plot(my_MLP_drop.valid_loss_during_training)\n",
        "plt.grid()\n",
        "plt.xlabel('Iteration')\n",
        "plt.ylabel('Loss Functions for p=0.2 Dropout')"
      ],
      "execution_count": null,
      "outputs": [
        {
          "output_type": "execute_result",
          "data": {
            "text/plain": [
              "Text(0, 0.5, 'Loss Function for p=0.2 Dropout')"
            ]
          },
          "metadata": {
            "tags": []
          },
          "execution_count": 89
        },
        {
          "output_type": "display_data",
          "data": {
            "image/png": "[encoded data removed]",
            "text/plain": [
              "<Figure size 432x288 with 1 Axes>"
            ]
          },
          "metadata": {
            "tags": [],
            "image/png": {
              "width": 387,
              "height": 261
            },
            "needs_background": "light"
          }
        }
      ]
    },
    {
      "cell_type": "markdown",
      "metadata": {
        "id": "ph4Ilaewk_7h"
      },
      "source": [
        "It can be seen that the optimal number of epochs is 8, as from there, there is no big improvement in terms of loss function for the validation set. Contrary to the case with no dropout, in this case the validation loss function continues decreasing, but from the 8th iteration it stabilizes, so that the decrease from there to the last iteration is only of a 3.5%, and from the 8th iteration to the lowest peak, at 19th iteration, is of a 9.9%."
      ]
    },
    {
      "cell_type": "code",
      "metadata": {
        "colab": {
          "base_uri": "https://localhost:8080/"
        },
        "id": "SJbhQ8Mqelwb",
        "outputId": "1e52bcbf-aed3-4f65-e380-1b0bf714e3c8"
      },
      "source": [
        "# Repeat for 8 epochs\n",
        "\n",
        "my_MLP_drop = MLPdrop_extended(dimx=784, hidden1=256,hidden2=128, hidden3=64,nlabels=10,epochs=8,lr=1e-3)\n",
        "\n",
        "my_MLP_drop.trainloop(trainloader, validloader)\n",
        "\n",
        "print(\"Train Accuracy %f\" %(my_MLP_drop.accuracy(trainloader)))\n",
        "print(\"Valid Accuracy %f\" %(my_MLP_drop.accuracy(validloader)))\n",
        "print(\"Test Accuracy %f\" %(my_MLP_drop.accuracy(testloader)))"
      ],
      "execution_count": null,
      "outputs": [
        {
          "output_type": "stream",
          "text": [
            "Training loss after 0 iterations: 0.645154\n",
            "Validation loss after 0 epochs: 0.456079\n",
            "Training loss after 1 iterations: 0.454310\n",
            "Validation loss after 1 epochs: 0.390771\n",
            "Training loss after 2 iterations: 0.412767\n",
            "Validation loss after 2 epochs: 0.379726\n",
            "Training loss after 3 iterations: 0.384978\n",
            "Validation loss after 3 epochs: 0.363908\n",
            "Training loss after 4 iterations: 0.368043\n",
            "Validation loss after 4 epochs: 0.373454\n",
            "Training loss after 5 iterations: 0.349757\n",
            "Validation loss after 5 epochs: 0.360148\n",
            "Training loss after 6 iterations: 0.337531\n",
            "Validation loss after 6 epochs: 0.356753\n",
            "Training loss after 7 iterations: 0.327867\n",
            "Validation loss after 7 epochs: 0.330901\n",
            "Train Accuracy 0.890004\n",
            "Valid Accuracy 0.871609\n",
            "Test Accuracy 0.858678\n"
          ],
          "name": "stdout"
        }
      ]
    },
    {
      "cell_type": "code",
      "metadata": {
        "id": "EUbQUwFDt5Ms"
      },
      "source": [
        "#YOUR CODE HERE\n",
        "\n",
        "#For Dropout p=0.1\n",
        "\n",
        "class MLP_drop2(nn.Module):\n",
        "    def __init__(self,dimx,hidden1,hidden2,hidden3,nlabels): #Nlabels will be 10 in our case\n",
        "        super().__init__()\n",
        "        self.output1 = nn.Linear(dimx,hidden1)       \n",
        "        self.output2 = nn.Linear(hidden1,hidden2)\n",
        "        self.output3 = nn.Linear(hidden2,hidden3)      \n",
        "        self.output4 = nn.Linear(hidden3,nlabels)   \n",
        "        self.relu = nn.ReLU()       \n",
        "        self.logsoftmax = nn.LogSoftmax(dim=1)\n",
        "        # Dropout module with 0.1 drop probability\n",
        "        self.dropout = nn.Dropout(p=0.1)\n",
        "\n",
        "    def forward(self, x):\n",
        "        # Pass the input tensor through each of our operations\n",
        "        x = self.output1(x)\n",
        "        x = self.relu(x)\n",
        "        x = self.dropout(x)\n",
        "        x = self.output2(x)\n",
        "        x = self.relu(x)\n",
        "        x = self.dropout(x)\n",
        "        x = self.output3(x)\n",
        "        x = self.relu(x)\n",
        "        x = self.dropout(x)\n",
        "        x = self.output4(x)\n",
        "        x = self.logsoftmax(x)\n",
        "        return x\n"
      ],
      "execution_count": null,
      "outputs": []
    },
    {
      "cell_type": "code",
      "metadata": {
        "id": "wjORp4p5t5Ms"
      },
      "source": [
        "#YOUR CODE HERE\n",
        "\n",
        "class MLPdrop2_extended(MLP_drop2):\n",
        "\n",
        "    def __init__(self,dimx,hidden1,hidden2,hidden3,nlabels,epochs=100,lr=0.001):    \n",
        "        super().__init__(dimx,hidden1,hidden2,hidden3,nlabels)  #To initialize MLP!     \n",
        "        self.lr = lr #Learning Rate   \n",
        "        self.optim = optim.Adam(self.parameters(), self.lr)      \n",
        "        self.epochs = epochs     \n",
        "        self.criterion = nn.NLLLoss()       \n",
        "        self.loss_during_training = [] # Store the loss evolution along training\n",
        "        # A list to store the loss evolution along validation        \n",
        "        self.valid_loss_during_training = [] \n",
        "        \n",
        "    def valid_loss(self, validloader):\n",
        "        if validloader is not None:\n",
        "            with torch.no_grad():\n",
        "                self.eval()\n",
        "                running_loss = 0.\n",
        "                for (images, labels) in validloader:\n",
        "                    out = self.forward(images.view(images.shape[0], -1))\n",
        "                    loss = self.criterion(out, labels)\n",
        "                    running_loss += loss.item()\n",
        "                self.valid_loss_during_training.append(running_loss/len(validloader))\n",
        "        else:\n",
        "            raise ValueError('validloader must contain data.')\n",
        "\n",
        "    # set model back to train mode\n",
        "        self.train() \n",
        "\n",
        "    def trainloop(self,trainloader, validloader = None):       \n",
        "        # Adam Loop        \n",
        "        for e in range(int(self.epochs)):     \n",
        "            running_loss = 0.\n",
        "            for images, labels in trainloader:           \n",
        "                self.optim.zero_grad()  #TO RESET GRADIENTS!\n",
        "                out = self.forward(images.view(images.shape[0], -1))                \n",
        "                loss = self.criterion(out, labels)\n",
        "                running_loss += loss.item()\n",
        "                loss.backward()\n",
        "                self.optim.step()       \n",
        "            self.loss_during_training.append(running_loss/len(trainloader))\n",
        "            if validloader is not None:\n",
        "                self.valid_loss(validloader)\n",
        "\n",
        "            if(e % 1 == 0): # Every epoch             \n",
        "                print(\"Training loss after %d iterations: %f\" \n",
        "                      %(e,self.loss_during_training[-1]))\n",
        "                print(\"Validation loss after %d epochs: %f\" \n",
        "                      %(e,self.valid_loss_during_training[-1]))                \n",
        "\n",
        "    def accuracy(self, loader):     \n",
        "        accuracy = 0\n",
        "        # Turn off gradients for validation, saves memory and computations\n",
        "        with torch.no_grad():\n",
        "          for (images, labels) in loader:\n",
        "            logprobs = self.forward(images.view(images.shape[0], -1)) # We use a log-softmax, to get log-probabilities\n",
        "            top_p, top_class = logprobs.topk(1, dim=1)\n",
        "            equals = (top_class == labels.view(images.shape[0], 1))\n",
        "            accuracy += torch.mean(equals.type(torch.FloatTensor))     \n",
        "        return accuracy/len(loader)         \n"
      ],
      "execution_count": null,
      "outputs": []
    },
    {
      "cell_type": "code",
      "metadata": {
        "id": "oDvPzmGkt5Mt",
        "colab": {
          "base_uri": "https://localhost:8080/"
        },
        "outputId": "d04447a8-7427-43ad-8661-2c17a118df8a"
      },
      "source": [
        "my_MLP_drop2 = MLPdrop2_extended(dimx=784, hidden1=256,hidden2=128, hidden3=64,nlabels=10,epochs=30,lr=1e-3)\n",
        "\n",
        "my_MLP_drop2.trainloop(trainloader, validloader)\n",
        "\n",
        "print(\"Train Accuracy %f\" %(my_MLP_drop2.accuracy(trainloader)))\n",
        "print(\"Valid Accuracy %f\" %(my_MLP_drop2.accuracy(validloader)))\n",
        "print(\"Test Accuracy %f\" %(my_MLP_drop2.accuracy(testloader)))"
      ],
      "execution_count": null,
      "outputs": [
        {
          "output_type": "stream",
          "text": [
            "Training loss after 0 iterations: 0.605415\n",
            "Validation loss after 0 epochs: 0.455607\n",
            "Training loss after 1 iterations: 0.422618\n",
            "Validation loss after 1 epochs: 0.400979\n",
            "Training loss after 2 iterations: 0.378812\n",
            "Validation loss after 2 epochs: 0.368959\n",
            "Training loss after 3 iterations: 0.355323\n",
            "Validation loss after 3 epochs: 0.356547\n",
            "Training loss after 4 iterations: 0.333373\n",
            "Validation loss after 4 epochs: 0.360132\n",
            "Training loss after 5 iterations: 0.322699\n",
            "Validation loss after 5 epochs: 0.344254\n",
            "Training loss after 6 iterations: 0.308846\n",
            "Validation loss after 6 epochs: 0.324496\n",
            "Training loss after 7 iterations: 0.293989\n",
            "Validation loss after 7 epochs: 0.327776\n",
            "Training loss after 8 iterations: 0.280912\n",
            "Validation loss after 8 epochs: 0.327510\n",
            "Training loss after 9 iterations: 0.273192\n",
            "Validation loss after 9 epochs: 0.367489\n",
            "Training loss after 10 iterations: 0.268308\n",
            "Validation loss after 10 epochs: 0.326711\n",
            "Training loss after 11 iterations: 0.258243\n",
            "Validation loss after 11 epochs: 0.333936\n",
            "Training loss after 12 iterations: 0.250643\n",
            "Validation loss after 12 epochs: 0.326495\n",
            "Training loss after 13 iterations: 0.243998\n",
            "Validation loss after 13 epochs: 0.324369\n",
            "Training loss after 14 iterations: 0.235923\n",
            "Validation loss after 14 epochs: 0.308714\n",
            "Training loss after 15 iterations: 0.231143\n",
            "Validation loss after 15 epochs: 0.315610\n",
            "Training loss after 16 iterations: 0.225510\n",
            "Validation loss after 16 epochs: 0.338265\n",
            "Training loss after 17 iterations: 0.220012\n",
            "Validation loss after 17 epochs: 0.333231\n",
            "Training loss after 18 iterations: 0.214618\n",
            "Validation loss after 18 epochs: 0.345762\n",
            "Training loss after 19 iterations: 0.206508\n",
            "Validation loss after 19 epochs: 0.335654\n",
            "Training loss after 20 iterations: 0.200830\n",
            "Validation loss after 20 epochs: 0.332979\n",
            "Training loss after 21 iterations: 0.198364\n",
            "Validation loss after 21 epochs: 0.336012\n",
            "Training loss after 22 iterations: 0.194978\n",
            "Validation loss after 22 epochs: 0.346827\n",
            "Training loss after 23 iterations: 0.187866\n",
            "Validation loss after 23 epochs: 0.338013\n",
            "Training loss after 24 iterations: 0.193217\n",
            "Validation loss after 24 epochs: 0.353247\n",
            "Training loss after 25 iterations: 0.182965\n",
            "Validation loss after 25 epochs: 0.358199\n",
            "Training loss after 26 iterations: 0.177070\n",
            "Validation loss after 26 epochs: 0.354077\n",
            "Training loss after 27 iterations: 0.177918\n",
            "Validation loss after 27 epochs: 0.344918\n",
            "Training loss after 28 iterations: 0.172734\n",
            "Validation loss after 28 epochs: 0.370952\n",
            "Training loss after 29 iterations: 0.169637\n",
            "Validation loss after 29 epochs: 0.370104\n",
            "Train Accuracy 0.935680\n",
            "Valid Accuracy 0.882558\n",
            "Test Accuracy 0.878384\n"
          ],
          "name": "stdout"
        }
      ]
    },
    {
      "cell_type": "code",
      "metadata": {
        "id": "O397T16Tv5ne",
        "colab": {
          "base_uri": "https://localhost:8080/",
          "height": 295
        },
        "outputId": "85ccabba-6d8b-4e93-f9b6-4317932f0262"
      },
      "source": [
        "plt.plot(my_MLP_drop2.loss_during_training)\n",
        "plt.plot(my_MLP_drop2.valid_loss_during_training)\n",
        "plt.grid()\n",
        "plt.xlabel('Iteration')\n",
        "plt.ylabel('Loss Functions for p=0.1 Dropout')"
      ],
      "execution_count": null,
      "outputs": [
        {
          "output_type": "execute_result",
          "data": {
            "text/plain": [
              "Text(0, 0.5, 'Loss Functions for p=0.1 Dropout')"
            ]
          },
          "metadata": {
            "tags": []
          },
          "execution_count": 97
        },
        {
          "output_type": "display_data",
          "data": {
            "image/png": "[encoded data removed]",
            "text/plain": [
              "<Figure size 432x288 with 1 Axes>"
            ]
          },
          "metadata": {
            "tags": [],
            "image/png": {
              "width": 387,
              "height": 261
            },
            "needs_background": "light"
          }
        }
      ]
    },
    {
      "cell_type": "markdown",
      "metadata": {
        "id": "J1LGbeWrkwHi"
      },
      "source": [
        "Thus, the optimal number of epochs is 17, in order to avoid overfitting."
      ]
    },
    {
      "cell_type": "code",
      "metadata": {
        "colab": {
          "base_uri": "https://localhost:8080/"
        },
        "id": "mswswhBlh7lP",
        "outputId": "d44a9c31-2c8c-41e9-cda0-34767a62faa2"
      },
      "source": [
        "#Repeat the process for 17 epochs\n",
        "\n",
        "my_MLP_drop2 = MLPdrop2_extended(dimx=784, hidden1=256,hidden2=128, hidden3=64,nlabels=10,epochs=17,lr=1e-3)\n",
        "\n",
        "my_MLP_drop2.trainloop(trainloader, validloader)\n",
        "\n",
        "print(\"Train Accuracy %f\" %(my_MLP_drop2.accuracy(trainloader)))\n",
        "print(\"Valid Accuracy %f\" %(my_MLP_drop2.accuracy(validloader)))\n",
        "print(\"Test Accuracy %f\" %(my_MLP_drop2.accuracy(testloader)))"
      ],
      "execution_count": null,
      "outputs": [
        {
          "output_type": "stream",
          "text": [
            "Training loss after 0 iterations: 0.600397\n",
            "Validation loss after 0 epochs: 0.436796\n",
            "Training loss after 1 iterations: 0.426776\n",
            "Validation loss after 1 epochs: 0.412265\n",
            "Training loss after 2 iterations: 0.384772\n",
            "Validation loss after 2 epochs: 0.374923\n",
            "Training loss after 3 iterations: 0.356209\n",
            "Validation loss after 3 epochs: 0.358553\n",
            "Training loss after 4 iterations: 0.337675\n",
            "Validation loss after 4 epochs: 0.357674\n",
            "Training loss after 5 iterations: 0.320032\n",
            "Validation loss after 5 epochs: 0.336293\n",
            "Training loss after 6 iterations: 0.305394\n",
            "Validation loss after 6 epochs: 0.332563\n",
            "Training loss after 7 iterations: 0.294009\n",
            "Validation loss after 7 epochs: 0.332704\n",
            "Training loss after 8 iterations: 0.285342\n",
            "Validation loss after 8 epochs: 0.361682\n",
            "Training loss after 9 iterations: 0.276618\n",
            "Validation loss after 9 epochs: 0.328503\n",
            "Training loss after 10 iterations: 0.266012\n",
            "Validation loss after 10 epochs: 0.324888\n",
            "Training loss after 11 iterations: 0.258551\n",
            "Validation loss after 11 epochs: 0.341667\n",
            "Training loss after 12 iterations: 0.252080\n",
            "Validation loss after 12 epochs: 0.325556\n",
            "Training loss after 13 iterations: 0.243844\n",
            "Validation loss after 13 epochs: 0.315879\n",
            "Training loss after 14 iterations: 0.236432\n",
            "Validation loss after 14 epochs: 0.341920\n",
            "Training loss after 15 iterations: 0.230103\n",
            "Validation loss after 15 epochs: 0.321932\n",
            "Training loss after 16 iterations: 0.222593\n",
            "Validation loss after 16 epochs: 0.315184\n",
            "Train Accuracy 0.925670\n",
            "Valid Accuracy 0.884043\n",
            "Test Accuracy 0.877986\n"
          ],
          "name": "stdout"
        }
      ]
    },
    {
      "cell_type": "markdown",
      "metadata": {
        "id": "lETTVHW3k1oM"
      },
      "source": [
        "**For Dropout p = 0.3**"
      ]
    },
    {
      "cell_type": "code",
      "metadata": {
        "id": "MWvs678krzKH"
      },
      "source": [
        "#For Dropout p=0.3\n",
        "\n",
        "class MLP_drop3(nn.Module):\n",
        "    def __init__(self,dimx,hidden1,hidden2,hidden3,nlabels): #Nlabels will be 10 in our case\n",
        "        super().__init__()\n",
        "        self.output1 = nn.Linear(dimx,hidden1)     \n",
        "        self.output2 = nn.Linear(hidden1,hidden2)\n",
        "        self.output3 = nn.Linear(hidden2,hidden3)       \n",
        "        self.output4 = nn.Linear(hidden3,nlabels)   \n",
        "        self.relu = nn.ReLU()       \n",
        "        self.logsoftmax = nn.LogSoftmax(dim=1)\n",
        "        # Dropout module with 0.3 drop probability\n",
        "        self.dropout = nn.Dropout(p=0.3)\n",
        "\n",
        "    def forward(self, x):\n",
        "        # Pass the input tensor through each of our operations\n",
        "        x = self.output1(x)\n",
        "        x = self.relu(x)\n",
        "        x = self.dropout(x)\n",
        "        x = self.output2(x)\n",
        "        x = self.relu(x)\n",
        "        x = self.dropout(x)\n",
        "        x = self.output3(x)\n",
        "        x = self.relu(x)\n",
        "        x = self.dropout(x)\n",
        "        x = self.output4(x)\n",
        "        x = self.logsoftmax(x)\n",
        "        return x\n",
        "\n"
      ],
      "execution_count": null,
      "outputs": []
    },
    {
      "cell_type": "code",
      "metadata": {
        "id": "W0ihRQOjsBkx"
      },
      "source": [
        "class MLPdrop3_extended(MLP_drop3):\n",
        "\n",
        "    def __init__(self,dimx,hidden1,hidden2,hidden3,nlabels,epochs=100,lr=0.001):    \n",
        "        super().__init__(dimx,hidden1,hidden2,hidden3,nlabels)  #To initialize MLP!     \n",
        "        self.lr = lr #Learning Rate   \n",
        "        self.optim = optim.Adam(self.parameters(), self.lr)      \n",
        "        self.epochs = epochs     \n",
        "        self.criterion = nn.NLLLoss()       \n",
        "        self.loss_during_training = [] # Store the loss evolution along training\n",
        "        # A list to store the loss evolution along validation        \n",
        "        self.valid_loss_during_training = [] \n",
        "        \n",
        "    def valid_loss(self, validloader):\n",
        "        if validloader is not None:\n",
        "            with torch.no_grad():\n",
        "                self.eval()\n",
        "                running_loss = 0.\n",
        "                for (images, labels) in validloader:\n",
        "                    out = self.forward(images.view(images.shape[0], -1))\n",
        "                    loss = self.criterion(out, labels)\n",
        "                    running_loss += loss.item()\n",
        "                self.valid_loss_during_training.append(running_loss/len(validloader))\n",
        "        else:\n",
        "            raise ValueError('validloader must contain data.')\n",
        "\n",
        "    # set model back to train mode\n",
        "        self.train() \n",
        "\n",
        "    def trainloop(self,trainloader, validloader = None):       \n",
        "        # Adam Loop        \n",
        "        for e in range(int(self.epochs)):     \n",
        "            running_loss = 0.\n",
        "            for images, labels in trainloader:           \n",
        "                self.optim.zero_grad()  #TO RESET GRADIENTS!\n",
        "                out = self.forward(images.view(images.shape[0], -1))                \n",
        "                loss = self.criterion(out, labels)\n",
        "                running_loss += loss.item()\n",
        "                loss.backward()\n",
        "                self.optim.step()       \n",
        "            self.loss_during_training.append(running_loss/len(trainloader))\n",
        "            if validloader is not None:\n",
        "                self.valid_loss(validloader)\n",
        "\n",
        "            if(e % 1 == 0): # Every epoch             \n",
        "                print(\"Training loss after %d iterations: %f\" \n",
        "                      %(e,self.loss_during_training[-1]))\n",
        "                print(\"Validation loss after %d epochs: %f\" \n",
        "                      %(e,self.valid_loss_during_training[-1]))                \n",
        "\n",
        "    def accuracy(self, loader):     \n",
        "        accuracy = 0\n",
        "        # Turn off gradients for validation, saves memory and computations\n",
        "        with torch.no_grad():\n",
        "          for (images, labels) in loader:\n",
        "            logprobs = self.forward(images.view(images.shape[0], -1)) # We use a log-softmax, to get log-probabilities\n",
        "            top_p, top_class = logprobs.topk(1, dim=1)\n",
        "            equals = (top_class == labels.view(images.shape[0], 1))\n",
        "            accuracy += torch.mean(equals.type(torch.FloatTensor))     \n",
        "        return accuracy/len(loader)             "
      ],
      "execution_count": null,
      "outputs": []
    },
    {
      "cell_type": "code",
      "metadata": {
        "colab": {
          "base_uri": "https://localhost:8080/"
        },
        "id": "MLaXYFk3sIoA",
        "outputId": "1a6ac0bf-1d7a-492f-9f13-fcd1c609d840"
      },
      "source": [
        "my_MLP_drop3 = MLPdrop3_extended(dimx=784, hidden1=256,hidden2=128, hidden3=64,nlabels=10,epochs=30,lr=1e-3)\n",
        "\n",
        "my_MLP_drop3.trainloop(trainloader, validloader)\n",
        "\n",
        "print(\"Train Accuracy %f\" %(my_MLP_drop3.accuracy(trainloader)))\n",
        "print(\"Valid Accuracy %f\" %(my_MLP_drop3.accuracy(validloader)))\n",
        "print(\"Test Accuracy %f\" %(my_MLP_drop3.accuracy(testloader)))"
      ],
      "execution_count": null,
      "outputs": [
        {
          "output_type": "stream",
          "text": [
            "Training loss after 0 iterations: 0.699132\n",
            "Validation loss after 0 epochs: 0.448783\n",
            "Training loss after 1 iterations: 0.486192\n",
            "Validation loss after 1 epochs: 0.409451\n",
            "Training loss after 2 iterations: 0.448321\n",
            "Validation loss after 2 epochs: 0.413890\n",
            "Training loss after 3 iterations: 0.425489\n",
            "Validation loss after 3 epochs: 0.383896\n",
            "Training loss after 4 iterations: 0.403134\n",
            "Validation loss after 4 epochs: 0.359714\n",
            "Training loss after 5 iterations: 0.387921\n",
            "Validation loss after 5 epochs: 0.359295\n",
            "Training loss after 6 iterations: 0.376190\n",
            "Validation loss after 6 epochs: 0.354771\n",
            "Training loss after 7 iterations: 0.363802\n",
            "Validation loss after 7 epochs: 0.354863\n",
            "Training loss after 8 iterations: 0.362027\n",
            "Validation loss after 8 epochs: 0.354258\n",
            "Training loss after 9 iterations: 0.350655\n",
            "Validation loss after 9 epochs: 0.345600\n",
            "Training loss after 10 iterations: 0.342160\n",
            "Validation loss after 10 epochs: 0.338089\n",
            "Training loss after 11 iterations: 0.337256\n",
            "Validation loss after 11 epochs: 0.351028\n",
            "Training loss after 12 iterations: 0.327235\n",
            "Validation loss after 12 epochs: 0.345747\n",
            "Training loss after 13 iterations: 0.324210\n",
            "Validation loss after 13 epochs: 0.325624\n",
            "Training loss after 14 iterations: 0.319897\n",
            "Validation loss after 14 epochs: 0.330112\n",
            "Training loss after 15 iterations: 0.313317\n",
            "Validation loss after 15 epochs: 0.334348\n",
            "Training loss after 16 iterations: 0.311346\n",
            "Validation loss after 16 epochs: 0.320842\n",
            "Training loss after 17 iterations: 0.303248\n",
            "Validation loss after 17 epochs: 0.330741\n",
            "Training loss after 18 iterations: 0.299225\n",
            "Validation loss after 18 epochs: 0.338460\n",
            "Training loss after 19 iterations: 0.298719\n",
            "Validation loss after 19 epochs: 0.330968\n",
            "Training loss after 20 iterations: 0.297826\n",
            "Validation loss after 20 epochs: 0.322755\n",
            "Training loss after 21 iterations: 0.292810\n",
            "Validation loss after 21 epochs: 0.336320\n",
            "Training loss after 22 iterations: 0.288893\n",
            "Validation loss after 22 epochs: 0.322098\n",
            "Training loss after 23 iterations: 0.288181\n",
            "Validation loss after 23 epochs: 0.318933\n",
            "Training loss after 24 iterations: 0.281236\n",
            "Validation loss after 24 epochs: 0.318778\n",
            "Training loss after 25 iterations: 0.276823\n",
            "Validation loss after 25 epochs: 0.323252\n",
            "Training loss after 26 iterations: 0.275786\n",
            "Validation loss after 26 epochs: 0.327349\n",
            "Training loss after 27 iterations: 0.269011\n",
            "Validation loss after 27 epochs: 0.319769\n",
            "Training loss after 28 iterations: 0.274173\n",
            "Validation loss after 28 epochs: 0.323156\n",
            "Training loss after 29 iterations: 0.268967\n",
            "Validation loss after 29 epochs: 0.315267\n",
            "Train Accuracy 0.905740\n",
            "Valid Accuracy 0.873737\n",
            "Test Accuracy 0.866143\n"
          ],
          "name": "stdout"
        }
      ]
    },
    {
      "cell_type": "code",
      "metadata": {
        "id": "2aV-V1POv_Ur",
        "colab": {
          "base_uri": "https://localhost:8080/",
          "height": 295
        },
        "outputId": "ddfac3a5-1922-4dd1-da54-462f2de469db"
      },
      "source": [
        "plt.plot(my_MLP_drop3.loss_during_training)\n",
        "plt.plot(my_MLP_drop3.valid_loss_during_training)\n",
        "plt.grid()\n",
        "plt.xlabel('Iteration')\n",
        "plt.ylabel('Loss Functions for p=0.3 Dropout')"
      ],
      "execution_count": null,
      "outputs": [
        {
          "output_type": "execute_result",
          "data": {
            "text/plain": [
              "Text(0, 0.5, 'Loss Functions for p=0.3 Dropout')"
            ]
          },
          "metadata": {
            "tags": []
          },
          "execution_count": 36
        },
        {
          "output_type": "display_data",
          "data": {
            "image/png": "[encoded data removed]",
            "text/plain": [
              "<Figure size 432x288 with 1 Axes>"
            ]
          },
          "metadata": {
            "tags": [],
            "image/png": {
              "width": 387,
              "height": 261
            },
            "needs_background": "light"
          }
        }
      ]
    },
    {
      "cell_type": "markdown",
      "metadata": {
        "id": "9-_Fj6P4lHLy"
      },
      "source": [
        "From this plot, it can be infered that both losses are the same, and have a decreasing trend, therefore, is does not make sense to use early stopping"
      ]
    },
    {
      "cell_type": "markdown",
      "metadata": {
        "id": "CsC1rUaNtI2j"
      },
      "source": [
        "As can be seen, the best results are given for p = 0.2, while for p = 0.3 and p = 0.1, the results are fairly similar, with quite high accuracies greater than 84% in every case. However, in the case for p = 0.1, the validation accuracy is higher than the train one, and this fact does not happen with p = 0.3 or p = 0.2"
      ]
    }
  ]
}
